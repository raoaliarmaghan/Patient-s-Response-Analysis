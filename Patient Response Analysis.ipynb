{
 "cells": [
  {
   "cell_type": "code",
   "execution_count": 1,
   "id": "e09a4ca0",
   "metadata": {},
   "outputs": [],
   "source": [
    "import pandas as pd\n",
    "import numpy as np\n",
    "import matplotlib.pyplot as plt\n",
    "import seaborn as sns"
   ]
  },
  {
   "cell_type": "code",
   "execution_count": 2,
   "id": "0407354c",
   "metadata": {},
   "outputs": [
    {
     "data": {
      "text/html": [
       "<div>\n",
       "<style scoped>\n",
       "    .dataframe tbody tr th:only-of-type {\n",
       "        vertical-align: middle;\n",
       "    }\n",
       "\n",
       "    .dataframe tbody tr th {\n",
       "        vertical-align: top;\n",
       "    }\n",
       "\n",
       "    .dataframe thead th {\n",
       "        text-align: right;\n",
       "    }\n",
       "</style>\n",
       "<table border=\"1\" class=\"dataframe\">\n",
       "  <thead>\n",
       "    <tr style=\"text-align: right;\">\n",
       "      <th></th>\n",
       "      <th>code</th>\n",
       "      <th>mon</th>\n",
       "      <th>day</th>\n",
       "      <th>year</th>\n",
       "      <th>time</th>\n",
       "      <th>visitdate</th>\n",
       "      <th>drcode</th>\n",
       "      <th>unit</th>\n",
       "      <th>drname</th>\n",
       "      <th>drspecialty</th>\n",
       "      <th>...</th>\n",
       "      <th>MARITAL_STATUS</th>\n",
       "      <th>PATENT_IN_RIYADH</th>\n",
       "      <th>APPT_TYPE</th>\n",
       "      <th>APPT_DT_TM</th>\n",
       "      <th>END_DT_TM</th>\n",
       "      <th>SLOT_TYPE_DESC</th>\n",
       "      <th>CLINIC_NAME</th>\n",
       "      <th>SLOT_MNEMONIC</th>\n",
       "      <th>DESCRIPTION</th>\n",
       "      <th>Visit_Time</th>\n",
       "    </tr>\n",
       "  </thead>\n",
       "  <tbody>\n",
       "    <tr>\n",
       "      <th>0</th>\n",
       "      <td>ikcynrtvigkdlwicg</td>\n",
       "      <td>1</td>\n",
       "      <td>1</td>\n",
       "      <td>2019</td>\n",
       "      <td>2359</td>\n",
       "      <td>1.010000e+12</td>\n",
       "      <td>6463</td>\n",
       "      <td>renal dialysis nt-r</td>\n",
       "      <td>Hemodialysis- Acute</td>\n",
       "      <td>MED-Acute Hemodialysis Unit</td>\n",
       "      <td>...</td>\n",
       "      <td>Single</td>\n",
       "      <td>Outside Riyadh</td>\n",
       "      <td>Hemodialysis Acute Follow-up</td>\n",
       "      <td>1/1/2019 13:50</td>\n",
       "      <td>1/1/2019 13:55</td>\n",
       "      <td>Report Slot Group</td>\n",
       "      <td>Hemodialysis Acute</td>\n",
       "      <td>Hemodialysis Acute</td>\n",
       "      <td>Hemodialysis Acute</td>\n",
       "      <td>1350</td>\n",
       "    </tr>\n",
       "    <tr>\n",
       "      <th>1</th>\n",
       "      <td>5bhs8iyrlaywd9sbi</td>\n",
       "      <td>1</td>\n",
       "      <td>1</td>\n",
       "      <td>2019</td>\n",
       "      <td>2359</td>\n",
       "      <td>1.010000e+12</td>\n",
       "      <td>6463</td>\n",
       "      <td>renal dialysis nt-r</td>\n",
       "      <td>Hemodialysis- Acute</td>\n",
       "      <td>MED-Acute Hemodialysis Unit</td>\n",
       "      <td>...</td>\n",
       "      <td>Married</td>\n",
       "      <td>Outside Riyadh</td>\n",
       "      <td>Hemodialysis Acute Follow-up</td>\n",
       "      <td>1/1/2019 14:20</td>\n",
       "      <td>1/1/2019 14:25</td>\n",
       "      <td>Report Slot Group</td>\n",
       "      <td>Hemodialysis Acute</td>\n",
       "      <td>Hemodialysis Acute</td>\n",
       "      <td>Hemodialysis Acute</td>\n",
       "      <td>1420</td>\n",
       "    </tr>\n",
       "    <tr>\n",
       "      <th>2</th>\n",
       "      <td>yskdky2nrumjf1lyk</td>\n",
       "      <td>1</td>\n",
       "      <td>1</td>\n",
       "      <td>2019</td>\n",
       "      <td>2359</td>\n",
       "      <td>1.010000e+12</td>\n",
       "      <td>6463</td>\n",
       "      <td>renal dialysis nt-r</td>\n",
       "      <td>Hemodialysis- Acute</td>\n",
       "      <td>MED-Acute Hemodialysis Unit</td>\n",
       "      <td>...</td>\n",
       "      <td>Single</td>\n",
       "      <td>Riyadh</td>\n",
       "      <td>Hemodialysis Chronic Follow-up</td>\n",
       "      <td>1/1/2019 8:30</td>\n",
       "      <td>1/1/2019 8:35</td>\n",
       "      <td>Report Slot Group</td>\n",
       "      <td>Hemodialysis Chronic</td>\n",
       "      <td>Hemodialysis Chronic</td>\n",
       "      <td>Hemodialysis Chronic</td>\n",
       "      <td>830</td>\n",
       "    </tr>\n",
       "    <tr>\n",
       "      <th>3</th>\n",
       "      <td>whyonzrtvpy557ru7</td>\n",
       "      <td>1</td>\n",
       "      <td>1</td>\n",
       "      <td>2020</td>\n",
       "      <td>2359</td>\n",
       "      <td>1.010000e+12</td>\n",
       "      <td>6463</td>\n",
       "      <td>renal dialysis nt-r</td>\n",
       "      <td>Hemodialysis- Acute</td>\n",
       "      <td>MED-Acute Hemodialysis Unit</td>\n",
       "      <td>...</td>\n",
       "      <td>Married</td>\n",
       "      <td>Outside Riyadh</td>\n",
       "      <td>Hemodialysis Acute Follow-up</td>\n",
       "      <td>1/1/2020 13:30</td>\n",
       "      <td>1/1/2020 13:35</td>\n",
       "      <td>Report Slot Group</td>\n",
       "      <td>Hemodialysis Acute</td>\n",
       "      <td>Hemodialysis Acute</td>\n",
       "      <td>Hemodialysis Acute</td>\n",
       "      <td>1330</td>\n",
       "    </tr>\n",
       "    <tr>\n",
       "      <th>4</th>\n",
       "      <td>7wy6liyaumjdkcjuu</td>\n",
       "      <td>1</td>\n",
       "      <td>1</td>\n",
       "      <td>2020</td>\n",
       "      <td>2359</td>\n",
       "      <td>1.010000e+12</td>\n",
       "      <td>6463</td>\n",
       "      <td>renal dialysis nt-r</td>\n",
       "      <td>Hemodialysis- Acute</td>\n",
       "      <td>MED-Acute Hemodialysis Unit</td>\n",
       "      <td>...</td>\n",
       "      <td>Married</td>\n",
       "      <td>Outside Riyadh</td>\n",
       "      <td>Hemodialysis Acute Follow-up</td>\n",
       "      <td>1/1/2020 14:00</td>\n",
       "      <td>1/1/2020 14:05</td>\n",
       "      <td>Report Slot Group</td>\n",
       "      <td>Hemodialysis Acute</td>\n",
       "      <td>Hemodialysis Acute</td>\n",
       "      <td>Hemodialysis Acute</td>\n",
       "      <td>1400</td>\n",
       "    </tr>\n",
       "  </tbody>\n",
       "</table>\n",
       "<p>5 rows × 89 columns</p>\n",
       "</div>"
      ],
      "text/plain": [
       "                code  mon  day  year  time     visitdate  drcode  \\\n",
       "0  ikcynrtvigkdlwicg    1    1  2019  2359  1.010000e+12    6463   \n",
       "1  5bhs8iyrlaywd9sbi    1    1  2019  2359  1.010000e+12    6463   \n",
       "2  yskdky2nrumjf1lyk    1    1  2019  2359  1.010000e+12    6463   \n",
       "3  whyonzrtvpy557ru7    1    1  2020  2359  1.010000e+12    6463   \n",
       "4  7wy6liyaumjdkcjuu    1    1  2020  2359  1.010000e+12    6463   \n",
       "\n",
       "                  unit               drname                  drspecialty  ...  \\\n",
       "0  renal dialysis nt-r  Hemodialysis- Acute  MED-Acute Hemodialysis Unit  ...   \n",
       "1  renal dialysis nt-r  Hemodialysis- Acute  MED-Acute Hemodialysis Unit  ...   \n",
       "2  renal dialysis nt-r  Hemodialysis- Acute  MED-Acute Hemodialysis Unit  ...   \n",
       "3  renal dialysis nt-r  Hemodialysis- Acute  MED-Acute Hemodialysis Unit  ...   \n",
       "4  renal dialysis nt-r  Hemodialysis- Acute  MED-Acute Hemodialysis Unit  ...   \n",
       "\n",
       "   MARITAL_STATUS PATENT_IN_RIYADH                       APPT_TYPE  \\\n",
       "0          Single   Outside Riyadh    Hemodialysis Acute Follow-up   \n",
       "1         Married   Outside Riyadh    Hemodialysis Acute Follow-up   \n",
       "2          Single           Riyadh  Hemodialysis Chronic Follow-up   \n",
       "3         Married   Outside Riyadh    Hemodialysis Acute Follow-up   \n",
       "4         Married   Outside Riyadh    Hemodialysis Acute Follow-up   \n",
       "\n",
       "       APPT_DT_TM       END_DT_TM     SLOT_TYPE_DESC           CLINIC_NAME  \\\n",
       "0  1/1/2019 13:50  1/1/2019 13:55  Report Slot Group    Hemodialysis Acute   \n",
       "1  1/1/2019 14:20  1/1/2019 14:25  Report Slot Group    Hemodialysis Acute   \n",
       "2   1/1/2019 8:30   1/1/2019 8:35  Report Slot Group  Hemodialysis Chronic   \n",
       "3  1/1/2020 13:30  1/1/2020 13:35  Report Slot Group    Hemodialysis Acute   \n",
       "4  1/1/2020 14:00  1/1/2020 14:05  Report Slot Group    Hemodialysis Acute   \n",
       "\n",
       "          SLOT_MNEMONIC           DESCRIPTION  Visit_Time  \n",
       "0    Hemodialysis Acute    Hemodialysis Acute        1350  \n",
       "1    Hemodialysis Acute    Hemodialysis Acute        1420  \n",
       "2  Hemodialysis Chronic  Hemodialysis Chronic         830  \n",
       "3    Hemodialysis Acute    Hemodialysis Acute        1330  \n",
       "4    Hemodialysis Acute    Hemodialysis Acute        1400  \n",
       "\n",
       "[5 rows x 89 columns]"
      ]
     },
     "execution_count": 2,
     "metadata": {},
     "output_type": "execute_result"
    }
   ],
   "source": [
    "df = pd.read_csv('Attachment_1644576156.csv')\n",
    "df.head()"
   ]
  },
  {
   "cell_type": "code",
   "execution_count": 3,
   "id": "01dbef87",
   "metadata": {},
   "outputs": [
    {
     "data": {
      "text/html": [
       "<div>\n",
       "<style scoped>\n",
       "    .dataframe tbody tr th:only-of-type {\n",
       "        vertical-align: middle;\n",
       "    }\n",
       "\n",
       "    .dataframe tbody tr th {\n",
       "        vertical-align: top;\n",
       "    }\n",
       "\n",
       "    .dataframe thead th {\n",
       "        text-align: right;\n",
       "    }\n",
       "</style>\n",
       "<table border=\"1\" class=\"dataframe\">\n",
       "  <thead>\n",
       "    <tr style=\"text-align: right;\">\n",
       "      <th></th>\n",
       "      <th>mon</th>\n",
       "      <th>day</th>\n",
       "      <th>year</th>\n",
       "      <th>time</th>\n",
       "      <th>visitdate</th>\n",
       "      <th>drcode</th>\n",
       "      <th>age</th>\n",
       "      <th>first_visit</th>\n",
       "      <th>comments1</th>\n",
       "      <th>PREREGIS</th>\n",
       "      <th>...</th>\n",
       "      <th>as_over_recommend</th>\n",
       "      <th>as_nurse_response</th>\n",
       "      <th>as_ph_response</th>\n",
       "      <th>as_ph_explain.1</th>\n",
       "      <th>YEARS</th>\n",
       "      <th>MONTHS</th>\n",
       "      <th>APPOINTMENT_ID</th>\n",
       "      <th>DAYS</th>\n",
       "      <th>AGE</th>\n",
       "      <th>Visit_Time</th>\n",
       "    </tr>\n",
       "  </thead>\n",
       "  <tbody>\n",
       "    <tr>\n",
       "      <th>count</th>\n",
       "      <td>1289.000000</td>\n",
       "      <td>1289.000000</td>\n",
       "      <td>1289.000000</td>\n",
       "      <td>1289.0</td>\n",
       "      <td>1.289000e+03</td>\n",
       "      <td>1289.000000</td>\n",
       "      <td>1289.000000</td>\n",
       "      <td>830.000000</td>\n",
       "      <td>0.0</td>\n",
       "      <td>806.000000</td>\n",
       "      <td>...</td>\n",
       "      <td>1226.000000</td>\n",
       "      <td>450.000000</td>\n",
       "      <td>420.000000</td>\n",
       "      <td>414.000000</td>\n",
       "      <td>1289.000000</td>\n",
       "      <td>1289.000000</td>\n",
       "      <td>1.289000e+03</td>\n",
       "      <td>1289.000000</td>\n",
       "      <td>1289.000000</td>\n",
       "      <td>1289.000000</td>\n",
       "    </tr>\n",
       "    <tr>\n",
       "      <th>mean</th>\n",
       "      <td>6.806827</td>\n",
       "      <td>15.730799</td>\n",
       "      <td>2019.251358</td>\n",
       "      <td>2359.0</td>\n",
       "      <td>1.580465e+13</td>\n",
       "      <td>6461.726144</td>\n",
       "      <td>44.774787</td>\n",
       "      <td>1.855422</td>\n",
       "      <td>NaN</td>\n",
       "      <td>1.512407</td>\n",
       "      <td>...</td>\n",
       "      <td>4.747145</td>\n",
       "      <td>4.586667</td>\n",
       "      <td>4.602381</td>\n",
       "      <td>4.574879</td>\n",
       "      <td>2019.251358</td>\n",
       "      <td>6.806827</td>\n",
       "      <td>1.963586e+08</td>\n",
       "      <td>15.730799</td>\n",
       "      <td>44.229635</td>\n",
       "      <td>1082.868115</td>\n",
       "    </tr>\n",
       "    <tr>\n",
       "      <th>std</th>\n",
       "      <td>3.566025</td>\n",
       "      <td>8.723922</td>\n",
       "      <td>0.888400</td>\n",
       "      <td>0.0</td>\n",
       "      <td>8.734859e+12</td>\n",
       "      <td>13.145871</td>\n",
       "      <td>19.518508</td>\n",
       "      <td>0.351887</td>\n",
       "      <td>NaN</td>\n",
       "      <td>0.500156</td>\n",
       "      <td>...</td>\n",
       "      <td>0.621791</td>\n",
       "      <td>0.771312</td>\n",
       "      <td>0.782563</td>\n",
       "      <td>0.836774</td>\n",
       "      <td>0.888400</td>\n",
       "      <td>3.566025</td>\n",
       "      <td>1.804242e+07</td>\n",
       "      <td>8.723922</td>\n",
       "      <td>19.480362</td>\n",
       "      <td>290.878306</td>\n",
       "    </tr>\n",
       "    <tr>\n",
       "      <th>min</th>\n",
       "      <td>1.000000</td>\n",
       "      <td>1.000000</td>\n",
       "      <td>2018.000000</td>\n",
       "      <td>2359.0</td>\n",
       "      <td>1.010000e+12</td>\n",
       "      <td>6284.000000</td>\n",
       "      <td>0.600000</td>\n",
       "      <td>1.000000</td>\n",
       "      <td>NaN</td>\n",
       "      <td>1.000000</td>\n",
       "      <td>...</td>\n",
       "      <td>1.000000</td>\n",
       "      <td>1.000000</td>\n",
       "      <td>1.000000</td>\n",
       "      <td>1.000000</td>\n",
       "      <td>2018.000000</td>\n",
       "      <td>1.000000</td>\n",
       "      <td>1.645675e+08</td>\n",
       "      <td>1.000000</td>\n",
       "      <td>0.000000</td>\n",
       "      <td>730.000000</td>\n",
       "    </tr>\n",
       "    <tr>\n",
       "      <th>25%</th>\n",
       "      <td>4.000000</td>\n",
       "      <td>9.000000</td>\n",
       "      <td>2019.000000</td>\n",
       "      <td>2359.0</td>\n",
       "      <td>9.020000e+12</td>\n",
       "      <td>6462.000000</td>\n",
       "      <td>29.730000</td>\n",
       "      <td>2.000000</td>\n",
       "      <td>NaN</td>\n",
       "      <td>1.000000</td>\n",
       "      <td>...</td>\n",
       "      <td>5.000000</td>\n",
       "      <td>4.000000</td>\n",
       "      <td>4.000000</td>\n",
       "      <td>4.000000</td>\n",
       "      <td>2019.000000</td>\n",
       "      <td>4.000000</td>\n",
       "      <td>1.818966e+08</td>\n",
       "      <td>9.000000</td>\n",
       "      <td>29.000000</td>\n",
       "      <td>800.000000</td>\n",
       "    </tr>\n",
       "    <tr>\n",
       "      <th>50%</th>\n",
       "      <td>7.000000</td>\n",
       "      <td>16.000000</td>\n",
       "      <td>2019.000000</td>\n",
       "      <td>2359.0</td>\n",
       "      <td>1.610000e+13</td>\n",
       "      <td>6463.000000</td>\n",
       "      <td>47.520000</td>\n",
       "      <td>2.000000</td>\n",
       "      <td>NaN</td>\n",
       "      <td>2.000000</td>\n",
       "      <td>...</td>\n",
       "      <td>5.000000</td>\n",
       "      <td>5.000000</td>\n",
       "      <td>5.000000</td>\n",
       "      <td>5.000000</td>\n",
       "      <td>2019.000000</td>\n",
       "      <td>7.000000</td>\n",
       "      <td>1.941196e+08</td>\n",
       "      <td>16.000000</td>\n",
       "      <td>47.000000</td>\n",
       "      <td>1330.000000</td>\n",
       "    </tr>\n",
       "    <tr>\n",
       "      <th>75%</th>\n",
       "      <td>10.000000</td>\n",
       "      <td>23.000000</td>\n",
       "      <td>2020.000000</td>\n",
       "      <td>2359.0</td>\n",
       "      <td>2.310000e+13</td>\n",
       "      <td>6463.000000</td>\n",
       "      <td>59.780000</td>\n",
       "      <td>2.000000</td>\n",
       "      <td>NaN</td>\n",
       "      <td>2.000000</td>\n",
       "      <td>...</td>\n",
       "      <td>5.000000</td>\n",
       "      <td>5.000000</td>\n",
       "      <td>5.000000</td>\n",
       "      <td>5.000000</td>\n",
       "      <td>2020.000000</td>\n",
       "      <td>10.000000</td>\n",
       "      <td>2.037853e+08</td>\n",
       "      <td>23.000000</td>\n",
       "      <td>59.000000</td>\n",
       "      <td>1345.000000</td>\n",
       "    </tr>\n",
       "    <tr>\n",
       "      <th>max</th>\n",
       "      <td>12.000000</td>\n",
       "      <td>31.000000</td>\n",
       "      <td>2021.000000</td>\n",
       "      <td>2359.0</td>\n",
       "      <td>3.110000e+13</td>\n",
       "      <td>6463.000000</td>\n",
       "      <td>94.430000</td>\n",
       "      <td>2.000000</td>\n",
       "      <td>NaN</td>\n",
       "      <td>2.000000</td>\n",
       "      <td>...</td>\n",
       "      <td>5.000000</td>\n",
       "      <td>5.000000</td>\n",
       "      <td>5.000000</td>\n",
       "      <td>5.000000</td>\n",
       "      <td>2021.000000</td>\n",
       "      <td>12.000000</td>\n",
       "      <td>2.593632e+08</td>\n",
       "      <td>31.000000</td>\n",
       "      <td>94.000000</td>\n",
       "      <td>1430.000000</td>\n",
       "    </tr>\n",
       "  </tbody>\n",
       "</table>\n",
       "<p>8 rows × 52 columns</p>\n",
       "</div>"
      ],
      "text/plain": [
       "               mon          day         year    time     visitdate  \\\n",
       "count  1289.000000  1289.000000  1289.000000  1289.0  1.289000e+03   \n",
       "mean      6.806827    15.730799  2019.251358  2359.0  1.580465e+13   \n",
       "std       3.566025     8.723922     0.888400     0.0  8.734859e+12   \n",
       "min       1.000000     1.000000  2018.000000  2359.0  1.010000e+12   \n",
       "25%       4.000000     9.000000  2019.000000  2359.0  9.020000e+12   \n",
       "50%       7.000000    16.000000  2019.000000  2359.0  1.610000e+13   \n",
       "75%      10.000000    23.000000  2020.000000  2359.0  2.310000e+13   \n",
       "max      12.000000    31.000000  2021.000000  2359.0  3.110000e+13   \n",
       "\n",
       "            drcode          age  first_visit  comments1    PREREGIS  ...  \\\n",
       "count  1289.000000  1289.000000   830.000000        0.0  806.000000  ...   \n",
       "mean   6461.726144    44.774787     1.855422        NaN    1.512407  ...   \n",
       "std      13.145871    19.518508     0.351887        NaN    0.500156  ...   \n",
       "min    6284.000000     0.600000     1.000000        NaN    1.000000  ...   \n",
       "25%    6462.000000    29.730000     2.000000        NaN    1.000000  ...   \n",
       "50%    6463.000000    47.520000     2.000000        NaN    2.000000  ...   \n",
       "75%    6463.000000    59.780000     2.000000        NaN    2.000000  ...   \n",
       "max    6463.000000    94.430000     2.000000        NaN    2.000000  ...   \n",
       "\n",
       "       as_over_recommend  as_nurse_response  as_ph_response  as_ph_explain.1  \\\n",
       "count        1226.000000         450.000000      420.000000       414.000000   \n",
       "mean            4.747145           4.586667        4.602381         4.574879   \n",
       "std             0.621791           0.771312        0.782563         0.836774   \n",
       "min             1.000000           1.000000        1.000000         1.000000   \n",
       "25%             5.000000           4.000000        4.000000         4.000000   \n",
       "50%             5.000000           5.000000        5.000000         5.000000   \n",
       "75%             5.000000           5.000000        5.000000         5.000000   \n",
       "max             5.000000           5.000000        5.000000         5.000000   \n",
       "\n",
       "             YEARS       MONTHS  APPOINTMENT_ID         DAYS          AGE  \\\n",
       "count  1289.000000  1289.000000    1.289000e+03  1289.000000  1289.000000   \n",
       "mean   2019.251358     6.806827    1.963586e+08    15.730799    44.229635   \n",
       "std       0.888400     3.566025    1.804242e+07     8.723922    19.480362   \n",
       "min    2018.000000     1.000000    1.645675e+08     1.000000     0.000000   \n",
       "25%    2019.000000     4.000000    1.818966e+08     9.000000    29.000000   \n",
       "50%    2019.000000     7.000000    1.941196e+08    16.000000    47.000000   \n",
       "75%    2020.000000    10.000000    2.037853e+08    23.000000    59.000000   \n",
       "max    2021.000000    12.000000    2.593632e+08    31.000000    94.000000   \n",
       "\n",
       "        Visit_Time  \n",
       "count  1289.000000  \n",
       "mean   1082.868115  \n",
       "std     290.878306  \n",
       "min     730.000000  \n",
       "25%     800.000000  \n",
       "50%    1330.000000  \n",
       "75%    1345.000000  \n",
       "max    1430.000000  \n",
       "\n",
       "[8 rows x 52 columns]"
      ]
     },
     "execution_count": 3,
     "metadata": {},
     "output_type": "execute_result"
    }
   ],
   "source": [
    "df.describe()"
   ]
  },
  {
   "cell_type": "code",
   "execution_count": 4,
   "id": "dbed6ae3",
   "metadata": {},
   "outputs": [
    {
     "data": {
      "text/plain": [
       "(1289, 89)"
      ]
     },
     "execution_count": 4,
     "metadata": {},
     "output_type": "execute_result"
    }
   ],
   "source": [
    "df.shape"
   ]
  },
  {
   "cell_type": "code",
   "execution_count": 5,
   "id": "55d0628b",
   "metadata": {},
   "outputs": [
    {
     "data": {
      "text/plain": [
       "Index(['code', 'mon', 'day', 'year', 'time', 'visitdate', 'drcode', 'unit',\n",
       "       'drname', 'drspecialty', 'age', 'reg_type', 'gender', 'nationality',\n",
       "       'pref_lang', 'first_visit', 'comments1', 'PREREGIS', 'op_sch',\n",
       "       'as_reg_app', 'as_reg_info', 'op_reg_staff', 'comments2',\n",
       "       'as_fac_wait_area', 'as_fac_room', 'as_fac_clean', 'comments3',\n",
       "       'as_per_wait_surgery', 'as_ph_care', 'as_ph_explain', 'as_nurse_care',\n",
       "       'as_nurse_skill', 'as_nurse_info', 'as_nurse_chec', 'as_staff_hands',\n",
       "       'comments4', 'as_anes_exp', 'as_anes_care', 'as_anes_overall',\n",
       "       'comments5', 'as_nurse_after', 'as_ph_after', 'as_nurse_info_family',\n",
       "       'as_nurse_info_home', 'as_nurse_skill.1', 'as_ph_skill', 'comments6',\n",
       "       'as_per_info_delay', 'as_per_priv', 'as_per_pain', 'as_per_con',\n",
       "       'as_per_need', 'as_per_treat', 'comments7', 'as_over_care',\n",
       "       'as_over_staff', 'as_over_recommend', 'comments8', 'as_nurse_response',\n",
       "       'as_ph_response', 'as_ph_explain.1', 'APPT_DATE', 'YEARS', 'MONTHS',\n",
       "       'APPOINTMENT_ID', 'DAYS', 'STATE_MEANING', 'ORGANIZATION_NAME',\n",
       "       'MED_RESOURCE_SERVICES', 'NAME_FULL_FORMATTED', 'USERNAME',\n",
       "       'PRSNL_GROUP_NAME', 'DEPARTMENT_NAME', 'SECTIONS', 'File_no', 'AGE',\n",
       "       'PATENT_BIRTH_DT_TM', 'PATIENT_NATIONALITY', 'GENDER', 'MARITAL_STATUS',\n",
       "       'PATENT_IN_RIYADH', 'APPT_TYPE', 'APPT_DT_TM', 'END_DT_TM',\n",
       "       'SLOT_TYPE_DESC', 'CLINIC_NAME', 'SLOT_MNEMONIC', 'DESCRIPTION',\n",
       "       'Visit_Time'],\n",
       "      dtype='object')"
      ]
     },
     "execution_count": 5,
     "metadata": {},
     "output_type": "execute_result"
    }
   ],
   "source": [
    "df.columns"
   ]
  },
  {
   "cell_type": "code",
   "execution_count": 6,
   "id": "e0be3402",
   "metadata": {},
   "outputs": [],
   "source": [
    "# First Let's see which age group have mostly visited the clinic."
   ]
  },
  {
   "cell_type": "code",
   "execution_count": 7,
   "id": "02e531b6",
   "metadata": {},
   "outputs": [
    {
     "data": {
      "text/plain": [
       "<AxesSubplot:xlabel='age'>"
      ]
     },
     "execution_count": 7,
     "metadata": {},
     "output_type": "execute_result"
    },
    {
     "data": {
      "image/png": "[encoded data removed]",
      "text/plain": [
       "<Figure size 432x288 with 1 Axes>"
      ]
     },
     "metadata": {
      "needs_background": "light"
     },
     "output_type": "display_data"
    }
   ],
   "source": [
    "sns.boxplot(x=df['age'])"
   ]
  },
  {
   "cell_type": "markdown",
   "id": "4df821b4",
   "metadata": {},
   "source": [
    "This shows that mostly patients are from 30-60 age group"
   ]
  },
  {
   "cell_type": "markdown",
   "id": "e7c6aeb0",
   "metadata": {},
   "source": [
    "Let's See how many patients have pre-registered themselves by phone."
   ]
  },
  {
   "cell_type": "code",
   "execution_count": 8,
   "id": "7f26e2af",
   "metadata": {},
   "outputs": [
    {
     "data": {
      "text/plain": [
       "2.0    413\n",
       "1.0    393\n",
       "Name: PREREGIS, dtype: int64"
      ]
     },
     "execution_count": 8,
     "metadata": {},
     "output_type": "execute_result"
    }
   ],
   "source": [
    "df['PREREGIS'].value_counts()"
   ]
  },
  {
   "cell_type": "code",
   "execution_count": 9,
   "id": "1ab85a49",
   "metadata": {},
   "outputs": [
    {
     "data": {
      "text/plain": [
       "<AxesSubplot:xlabel='PREREGIS', ylabel='count'>"
      ]
     },
     "execution_count": 9,
     "metadata": {},
     "output_type": "execute_result"
    },
    {
     "data": {
      "image/png": "[encoded data removed]",
      "text/plain": [
       "<Figure size 432x288 with 1 Axes>"
      ]
     },
     "metadata": {
      "needs_background": "light"
     },
     "output_type": "display_data"
    }
   ],
   "source": [
    "sns.countplot(x='PREREGIS', hue='gender', data=df)\n"
   ]
  },
  {
   "cell_type": "markdown",
   "id": "c0943d38",
   "metadata": {},
   "source": [
    " This shows that almost there are equal number of Patients that have registered by phone and those who have not registered by phone."
   ]
  },
  {
   "cell_type": "markdown",
   "id": "1c020771",
   "metadata": {},
   "source": [
    "## Let's extract only the recommendation features and check the correlation between them."
   ]
  },
  {
   "cell_type": "code",
   "execution_count": 10,
   "id": "6fe55cd6",
   "metadata": {},
   "outputs": [],
   "source": [
    "df1 = df[['op_sch',\n",
    "       'as_reg_app', 'as_reg_info', 'op_reg_staff', \n",
    "       'as_fac_wait_area', 'as_fac_room', 'as_fac_clean', \n",
    "       'as_per_wait_surgery', 'as_ph_care', 'as_ph_explain', 'as_nurse_care',\n",
    "       'as_nurse_skill', 'as_nurse_info', 'as_nurse_chec', 'as_staff_hands',\n",
    "        'as_anes_exp', 'as_anes_care', 'as_anes_overall',\n",
    "       'as_nurse_after', 'as_ph_after', 'as_nurse_info_family',\n",
    "       'as_nurse_info_home', 'as_nurse_skill.1', 'as_ph_skill', \n",
    "       'as_per_info_delay', 'as_per_priv', 'as_per_pain', 'as_per_con',\n",
    "       'as_per_need', 'as_per_treat', 'as_over_care',\n",
    "       'as_over_staff', 'as_over_recommend', 'as_nurse_response',\n",
    "       'as_ph_response', 'as_ph_explain.1']]"
   ]
  },
  {
   "cell_type": "code",
   "execution_count": 11,
   "id": "107db21f",
   "metadata": {},
   "outputs": [],
   "source": [
    "df1_corr = df1.corr()"
   ]
  },
  {
   "cell_type": "markdown",
   "id": "f82dbf11",
   "metadata": {},
   "source": [
    "### The Heatmap of correlation matrix"
   ]
  },
  {
   "cell_type": "code",
   "execution_count": 12,
   "id": "5221cd69",
   "metadata": {},
   "outputs": [
    {
     "data": {
      "text/plain": [
       "<AxesSubplot:>"
      ]
     },
     "execution_count": 12,
     "metadata": {},
     "output_type": "execute_result"
    },
    {
     "data": {
      "image/png": "[encoded data removed]",
      "text/plain": [
       "<Figure size 1440x1440 with 2 Axes>"
      ]
     },
     "metadata": {
      "needs_background": "light"
     },
     "output_type": "display_data"
    }
   ],
   "source": [
    "plt.figure(figsize = (20,20))\n",
    "sns.heatmap(df1_corr, cmap=\"YlGnBu\",\n",
    "        xticklabels=df1_corr.columns,\n",
    "        yticklabels=df1_corr.columns)"
   ]
  },
  {
   "cell_type": "code",
   "execution_count": null,
   "id": "f1bdec73",
   "metadata": {},
   "outputs": [],
   "source": []
  },
  {
   "cell_type": "code",
   "execution_count": 13,
   "id": "3aed7ced",
   "metadata": {},
   "outputs": [],
   "source": [
    "c = df1.corr().abs()\n",
    "\n",
    "s = c.unstack()\n",
    "all_corr = s.sort_values(kind=\"quicksort\")"
   ]
  },
  {
   "cell_type": "code",
   "execution_count": 14,
   "id": "f1b0847f",
   "metadata": {},
   "outputs": [],
   "source": [
    "all_corr = all_corr.reset_index()"
   ]
  },
  {
   "cell_type": "code",
   "execution_count": 15,
   "id": "81a10c22",
   "metadata": {},
   "outputs": [],
   "source": [
    "all_corr.rename({0:'corr'},axis=1, inplace=True)"
   ]
  },
  {
   "cell_type": "markdown",
   "id": "7fbfe1b4",
   "metadata": {},
   "source": [
    "### Looking at the TOP 10 Negative Correlated Features"
   ]
  },
  {
   "cell_type": "code",
   "execution_count": 16,
   "id": "54d5cd39",
   "metadata": {},
   "outputs": [],
   "source": [
    "neg_corr = all_corr[all_corr['corr'] <= 0.3].drop_duplicates(subset='corr')"
   ]
  },
  {
   "cell_type": "code",
   "execution_count": 17,
   "id": "ba188918",
   "metadata": {},
   "outputs": [],
   "source": [
    "neg_corr = neg_corr.sort_values(by='corr',ascending=True)"
   ]
  },
  {
   "cell_type": "code",
   "execution_count": 18,
   "id": "4cb56995",
   "metadata": {},
   "outputs": [
    {
     "data": {
      "text/html": [
       "<div>\n",
       "<style scoped>\n",
       "    .dataframe tbody tr th:only-of-type {\n",
       "        vertical-align: middle;\n",
       "    }\n",
       "\n",
       "    .dataframe tbody tr th {\n",
       "        vertical-align: top;\n",
       "    }\n",
       "\n",
       "    .dataframe thead th {\n",
       "        text-align: right;\n",
       "    }\n",
       "</style>\n",
       "<table border=\"1\" class=\"dataframe\">\n",
       "  <thead>\n",
       "    <tr style=\"text-align: right;\">\n",
       "      <th></th>\n",
       "      <th>level_0</th>\n",
       "      <th>level_1</th>\n",
       "      <th>corr</th>\n",
       "    </tr>\n",
       "  </thead>\n",
       "  <tbody>\n",
       "    <tr>\n",
       "      <th>0</th>\n",
       "      <td>as_fac_clean</td>\n",
       "      <td>op_sch</td>\n",
       "      <td>0.159039</td>\n",
       "    </tr>\n",
       "    <tr>\n",
       "      <th>2</th>\n",
       "      <td>as_per_wait_surgery</td>\n",
       "      <td>as_fac_clean</td>\n",
       "      <td>0.214022</td>\n",
       "    </tr>\n",
       "    <tr>\n",
       "      <th>4</th>\n",
       "      <td>as_per_info_delay</td>\n",
       "      <td>as_fac_clean</td>\n",
       "      <td>0.225020</td>\n",
       "    </tr>\n",
       "    <tr>\n",
       "      <th>6</th>\n",
       "      <td>as_fac_clean</td>\n",
       "      <td>as_reg_app</td>\n",
       "      <td>0.248429</td>\n",
       "    </tr>\n",
       "    <tr>\n",
       "      <th>8</th>\n",
       "      <td>as_fac_wait_area</td>\n",
       "      <td>as_anes_care</td>\n",
       "      <td>0.249751</td>\n",
       "    </tr>\n",
       "    <tr>\n",
       "      <th>10</th>\n",
       "      <td>as_fac_clean</td>\n",
       "      <td>op_reg_staff</td>\n",
       "      <td>0.255848</td>\n",
       "    </tr>\n",
       "    <tr>\n",
       "      <th>12</th>\n",
       "      <td>op_reg_staff</td>\n",
       "      <td>as_fac_wait_area</td>\n",
       "      <td>0.256722</td>\n",
       "    </tr>\n",
       "    <tr>\n",
       "      <th>14</th>\n",
       "      <td>as_anes_exp</td>\n",
       "      <td>as_fac_clean</td>\n",
       "      <td>0.258277</td>\n",
       "    </tr>\n",
       "    <tr>\n",
       "      <th>16</th>\n",
       "      <td>as_anes_care</td>\n",
       "      <td>as_fac_clean</td>\n",
       "      <td>0.264069</td>\n",
       "    </tr>\n",
       "    <tr>\n",
       "      <th>18</th>\n",
       "      <td>op_reg_staff</td>\n",
       "      <td>as_staff_hands</td>\n",
       "      <td>0.270937</td>\n",
       "    </tr>\n",
       "  </tbody>\n",
       "</table>\n",
       "</div>"
      ],
      "text/plain": [
       "                level_0           level_1      corr\n",
       "0          as_fac_clean            op_sch  0.159039\n",
       "2   as_per_wait_surgery      as_fac_clean  0.214022\n",
       "4     as_per_info_delay      as_fac_clean  0.225020\n",
       "6          as_fac_clean        as_reg_app  0.248429\n",
       "8      as_fac_wait_area      as_anes_care  0.249751\n",
       "10         as_fac_clean      op_reg_staff  0.255848\n",
       "12         op_reg_staff  as_fac_wait_area  0.256722\n",
       "14          as_anes_exp      as_fac_clean  0.258277\n",
       "16         as_anes_care      as_fac_clean  0.264069\n",
       "18         op_reg_staff    as_staff_hands  0.270937"
      ]
     },
     "execution_count": 18,
     "metadata": {},
     "output_type": "execute_result"
    }
   ],
   "source": [
    "neg_corr[:10]"
   ]
  },
  {
   "cell_type": "markdown",
   "id": "8c6da380",
   "metadata": {},
   "source": [
    "### Looking at the TOP 10 Positive Correlated Features"
   ]
  },
  {
   "cell_type": "code",
   "execution_count": 19,
   "id": "2bc85061",
   "metadata": {},
   "outputs": [],
   "source": [
    "pos_corr = all_corr[all_corr['corr'] >= 0.6].drop_duplicates(subset='corr')"
   ]
  },
  {
   "cell_type": "code",
   "execution_count": 20,
   "id": "d9cb19d4",
   "metadata": {},
   "outputs": [
    {
     "data": {
      "text/html": [
       "<div>\n",
       "<style scoped>\n",
       "    .dataframe tbody tr th:only-of-type {\n",
       "        vertical-align: middle;\n",
       "    }\n",
       "\n",
       "    .dataframe tbody tr th {\n",
       "        vertical-align: top;\n",
       "    }\n",
       "\n",
       "    .dataframe thead th {\n",
       "        text-align: right;\n",
       "    }\n",
       "</style>\n",
       "<table border=\"1\" class=\"dataframe\">\n",
       "  <thead>\n",
       "    <tr style=\"text-align: right;\">\n",
       "      <th></th>\n",
       "      <th>level_0</th>\n",
       "      <th>level_1</th>\n",
       "      <th>corr</th>\n",
       "    </tr>\n",
       "  </thead>\n",
       "  <tbody>\n",
       "    <tr>\n",
       "      <th>1162</th>\n",
       "      <td>as_nurse_skill</td>\n",
       "      <td>as_nurse_info</td>\n",
       "      <td>0.603133</td>\n",
       "    </tr>\n",
       "    <tr>\n",
       "      <th>1164</th>\n",
       "      <td>as_over_care</td>\n",
       "      <td>as_nurse_skill.1</td>\n",
       "      <td>0.608817</td>\n",
       "    </tr>\n",
       "    <tr>\n",
       "      <th>1166</th>\n",
       "      <td>as_ph_response</td>\n",
       "      <td>as_ph_care</td>\n",
       "      <td>0.611430</td>\n",
       "    </tr>\n",
       "    <tr>\n",
       "      <th>1168</th>\n",
       "      <td>as_ph_skill</td>\n",
       "      <td>as_ph_explain</td>\n",
       "      <td>0.613175</td>\n",
       "    </tr>\n",
       "    <tr>\n",
       "      <th>1170</th>\n",
       "      <td>as_over_care</td>\n",
       "      <td>as_over_recommend</td>\n",
       "      <td>0.622841</td>\n",
       "    </tr>\n",
       "    <tr>\n",
       "      <th>1172</th>\n",
       "      <td>as_nurse_info_home</td>\n",
       "      <td>as_nurse_skill.1</td>\n",
       "      <td>0.625709</td>\n",
       "    </tr>\n",
       "    <tr>\n",
       "      <th>1174</th>\n",
       "      <td>as_nurse_info</td>\n",
       "      <td>as_nurse_response</td>\n",
       "      <td>0.632456</td>\n",
       "    </tr>\n",
       "    <tr>\n",
       "      <th>1176</th>\n",
       "      <td>as_per_need</td>\n",
       "      <td>as_over_staff</td>\n",
       "      <td>0.633526</td>\n",
       "    </tr>\n",
       "    <tr>\n",
       "      <th>1178</th>\n",
       "      <td>as_per_need</td>\n",
       "      <td>as_per_treat</td>\n",
       "      <td>0.638357</td>\n",
       "    </tr>\n",
       "    <tr>\n",
       "      <th>1180</th>\n",
       "      <td>as_nurse_after</td>\n",
       "      <td>as_nurse_care</td>\n",
       "      <td>0.640085</td>\n",
       "    </tr>\n",
       "  </tbody>\n",
       "</table>\n",
       "</div>"
      ],
      "text/plain": [
       "                 level_0            level_1      corr\n",
       "1162      as_nurse_skill      as_nurse_info  0.603133\n",
       "1164        as_over_care   as_nurse_skill.1  0.608817\n",
       "1166      as_ph_response         as_ph_care  0.611430\n",
       "1168         as_ph_skill      as_ph_explain  0.613175\n",
       "1170        as_over_care  as_over_recommend  0.622841\n",
       "1172  as_nurse_info_home   as_nurse_skill.1  0.625709\n",
       "1174       as_nurse_info  as_nurse_response  0.632456\n",
       "1176         as_per_need      as_over_staff  0.633526\n",
       "1178         as_per_need       as_per_treat  0.638357\n",
       "1180      as_nurse_after      as_nurse_care  0.640085"
      ]
     },
     "execution_count": 20,
     "metadata": {},
     "output_type": "execute_result"
    }
   ],
   "source": [
    "pos_corr[:10]"
   ]
  },
  {
   "cell_type": "code",
   "execution_count": null,
   "id": "2df22a61",
   "metadata": {},
   "outputs": [],
   "source": []
  },
  {
   "cell_type": "markdown",
   "id": "9c287cff",
   "metadata": {},
   "source": [
    "### Plotting the HIstograms of all the Recommendation Features to get the idea in which bracket most of the recommendation falls."
   ]
  },
  {
   "cell_type": "code",
   "execution_count": 93,
   "id": "ecea5d4c",
   "metadata": {
    "scrolled": true
   },
   "outputs": [
    {
     "data": {
      "text/plain": [
       "[]"
      ]
     },
     "execution_count": 93,
     "metadata": {},
     "output_type": "execute_result"
    },
    {
     "data": {
      "image/png": "[encoded data removed]",
      "text/plain": [
       "<Figure size 1224x864 with 12 Axes>"
      ]
     },
     "metadata": {
      "needs_background": "light"
     },
     "output_type": "display_data"
    }
   ],
   "source": [
    "df1.iloc[:,0:12].hist(figsize=(17,12))\n",
    "plt.plot()"
   ]
  },
  {
   "cell_type": "code",
   "execution_count": 22,
   "id": "4a1f0bb2",
   "metadata": {},
   "outputs": [
    {
     "data": {
      "text/plain": [
       "array([[<AxesSubplot:title={'center':'as_nurse_info'}>,\n",
       "        <AxesSubplot:title={'center':'as_nurse_chec'}>,\n",
       "        <AxesSubplot:title={'center':'as_staff_hands'}>],\n",
       "       [<AxesSubplot:title={'center':'as_anes_exp'}>,\n",
       "        <AxesSubplot:title={'center':'as_anes_care'}>,\n",
       "        <AxesSubplot:title={'center':'as_anes_overall'}>],\n",
       "       [<AxesSubplot:title={'center':'as_nurse_after'}>,\n",
       "        <AxesSubplot:title={'center':'as_ph_after'}>,\n",
       "        <AxesSubplot:title={'center':'as_nurse_info_family'}>],\n",
       "       [<AxesSubplot:title={'center':'as_nurse_info_home'}>,\n",
       "        <AxesSubplot:title={'center':'as_nurse_skill.1'}>,\n",
       "        <AxesSubplot:title={'center':'as_ph_skill'}>]], dtype=object)"
      ]
     },
     "execution_count": 22,
     "metadata": {},
     "output_type": "execute_result"
    },
    {
     "data": {
      "image/png": "[encoded data removed]",
      "text/plain": [
       "<Figure size 1224x864 with 12 Axes>"
      ]
     },
     "metadata": {
      "needs_background": "light"
     },
     "output_type": "display_data"
    }
   ],
   "source": [
    "df1.iloc[:,12:24].hist(figsize=(17,12))"
   ]
  },
  {
   "cell_type": "code",
   "execution_count": 23,
   "id": "ff66b71d",
   "metadata": {},
   "outputs": [
    {
     "data": {
      "text/plain": [
       "array([[<AxesSubplot:title={'center':'as_per_info_delay'}>,\n",
       "        <AxesSubplot:title={'center':'as_per_priv'}>,\n",
       "        <AxesSubplot:title={'center':'as_per_pain'}>],\n",
       "       [<AxesSubplot:title={'center':'as_per_con'}>,\n",
       "        <AxesSubplot:title={'center':'as_per_need'}>,\n",
       "        <AxesSubplot:title={'center':'as_per_treat'}>],\n",
       "       [<AxesSubplot:title={'center':'as_over_care'}>,\n",
       "        <AxesSubplot:title={'center':'as_over_staff'}>,\n",
       "        <AxesSubplot:title={'center':'as_over_recommend'}>],\n",
       "       [<AxesSubplot:title={'center':'as_nurse_response'}>,\n",
       "        <AxesSubplot:title={'center':'as_ph_response'}>,\n",
       "        <AxesSubplot:title={'center':'as_ph_explain.1'}>]], dtype=object)"
      ]
     },
     "execution_count": 23,
     "metadata": {},
     "output_type": "execute_result"
    },
    {
     "data": {
      "image/png": "[encoded data removed]",
      "text/plain": [
       "<Figure size 1224x864 with 12 Axes>"
      ]
     },
     "metadata": {
      "needs_background": "light"
     },
     "output_type": "display_data"
    }
   ],
   "source": [
    "df1.iloc[:,24:36].hist(figsize=(17,12))"
   ]
  },
  {
   "cell_type": "markdown",
   "id": "8c4d18ea",
   "metadata": {},
   "source": [
    "### After looking at all these Histogram it can be seen that most of the recommendation belongs to 4 and 5 star. \n",
    "### but some of the them also ranges from 1 - 3 star "
   ]
  },
  {
   "cell_type": "code",
   "execution_count": null,
   "id": "91f509a2",
   "metadata": {},
   "outputs": [],
   "source": []
  },
  {
   "cell_type": "markdown",
   "id": "44379416",
   "metadata": {},
   "source": [
    "### Cutting the age columns to age bins of 10 years gap to see in which bracket most of the patients occur."
   ]
  },
  {
   "cell_type": "code",
   "execution_count": 24,
   "id": "206a659e",
   "metadata": {},
   "outputs": [],
   "source": [
    "df['age_bins'] = pd.cut(x=df['age'], bins=[0,10,20,30, 40, 50,60,70,80,90])\n"
   ]
  },
  {
   "cell_type": "code",
   "execution_count": 25,
   "id": "5aa2971d",
   "metadata": {},
   "outputs": [
    {
     "data": {
      "text/plain": [
       "[]"
      ]
     },
     "execution_count": 25,
     "metadata": {},
     "output_type": "execute_result"
    },
    {
     "data": {
      "image/png": "[encoded data removed]",
      "text/plain": [
       "<Figure size 432x288 with 1 Axes>"
      ]
     },
     "metadata": {
      "needs_background": "light"
     },
     "output_type": "display_data"
    }
   ],
   "source": [
    "sns.countplot(x='age_bins', data=df)\n",
    "plt.xticks(rotation=90)\n",
    "plt.plot()"
   ]
  },
  {
   "cell_type": "markdown",
   "id": "a39e9786",
   "metadata": {},
   "source": [
    "#### It can be seen that most of the patients are from age 50-60 group"
   ]
  },
  {
   "cell_type": "code",
   "execution_count": null,
   "id": "07a70a79",
   "metadata": {},
   "outputs": [],
   "source": []
  },
  {
   "cell_type": "markdown",
   "id": "8b812001",
   "metadata": {},
   "source": [
    "### Let's explore some univariate analysis of features."
   ]
  },
  {
   "cell_type": "code",
   "execution_count": 26,
   "id": "ec82b805",
   "metadata": {},
   "outputs": [],
   "source": [
    "# df[['day','mon','year','time','visitdate']]"
   ]
  },
  {
   "cell_type": "code",
   "execution_count": 27,
   "id": "02911cb1",
   "metadata": {},
   "outputs": [
    {
     "data": {
      "text/plain": [
       "<AxesSubplot:xlabel='year', ylabel='count'>"
      ]
     },
     "execution_count": 27,
     "metadata": {},
     "output_type": "execute_result"
    },
    {
     "data": {
      "image/png": "[encoded data removed]",
      "text/plain": [
       "<Figure size 432x288 with 1 Axes>"
      ]
     },
     "metadata": {
      "needs_background": "light"
     },
     "output_type": "display_data"
    }
   ],
   "source": [
    "sns.countplot(x='year', hue='gender', data=df)"
   ]
  },
  {
   "cell_type": "markdown",
   "id": "b7ebcbd5",
   "metadata": {},
   "source": [
    "#### This shows that in which year most of the records occur and also showing the ratio of Gender."
   ]
  },
  {
   "cell_type": "code",
   "execution_count": null,
   "id": "aef7ea17",
   "metadata": {},
   "outputs": [],
   "source": []
  },
  {
   "cell_type": "code",
   "execution_count": 28,
   "id": "ac86c0cd",
   "metadata": {},
   "outputs": [
    {
     "data": {
      "text/plain": [
       "<AxesSubplot:xlabel='unit', ylabel='count'>"
      ]
     },
     "execution_count": 28,
     "metadata": {},
     "output_type": "execute_result"
    },
    {
     "data": {
      "image/png": "[encoded data removed]",
      "text/plain": [
       "<Figure size 432x288 with 1 Axes>"
      ]
     },
     "metadata": {
      "needs_background": "light"
     },
     "output_type": "display_data"
    }
   ],
   "source": [
    "sns.countplot(x='unit', hue='gender', data=df)"
   ]
  },
  {
   "cell_type": "markdown",
   "id": "96708226",
   "metadata": {},
   "source": [
    "#### This shows in which Unit most of the patients visit."
   ]
  },
  {
   "cell_type": "code",
   "execution_count": null,
   "id": "7f8b51d5",
   "metadata": {},
   "outputs": [],
   "source": []
  },
  {
   "cell_type": "code",
   "execution_count": 29,
   "id": "eed38fcb",
   "metadata": {},
   "outputs": [
    {
     "data": {
      "text/plain": [
       "[]"
      ]
     },
     "execution_count": 29,
     "metadata": {},
     "output_type": "execute_result"
    },
    {
     "data": {
      "image/png": "[encoded data removed]",
      "text/plain": [
       "<Figure size 432x288 with 1 Axes>"
      ]
     },
     "metadata": {
      "needs_background": "light"
     },
     "output_type": "display_data"
    }
   ],
   "source": [
    "sns.countplot(x='reg_type', hue='gender', data=df)\n",
    "plt.xticks(rotation=90)\n",
    "plt.plot()"
   ]
  },
  {
   "cell_type": "markdown",
   "id": "3d859b4a",
   "metadata": {},
   "source": [
    "#### This shows the Registration Type of Patients. It is showing that most of the Registration Type is ORDINARY."
   ]
  },
  {
   "cell_type": "code",
   "execution_count": null,
   "id": "b83e3382",
   "metadata": {},
   "outputs": [],
   "source": []
  },
  {
   "cell_type": "code",
   "execution_count": 30,
   "id": "e9c4fd12",
   "metadata": {},
   "outputs": [
    {
     "data": {
      "text/plain": [
       "[]"
      ]
     },
     "execution_count": 30,
     "metadata": {},
     "output_type": "execute_result"
    },
    {
     "data": {
      "image/png": "[encoded data removed]",
      "text/plain": [
       "<Figure size 432x288 with 1 Axes>"
      ]
     },
     "metadata": {
      "needs_background": "light"
     },
     "output_type": "display_data"
    }
   ],
   "source": [
    "sns.countplot(x='nationality', hue='gender', data=df)\n",
    "plt.xticks(rotation=90)\n",
    "plt.plot()"
   ]
  },
  {
   "cell_type": "markdown",
   "id": "108b7c70",
   "metadata": {},
   "source": [
    "#### This shows that Saudi-Arabia Nationality holder have mostly visited"
   ]
  },
  {
   "cell_type": "code",
   "execution_count": null,
   "id": "6e045e88",
   "metadata": {},
   "outputs": [],
   "source": []
  },
  {
   "cell_type": "code",
   "execution_count": 31,
   "id": "1d3152b2",
   "metadata": {},
   "outputs": [
    {
     "data": {
      "text/plain": [
       "<AxesSubplot:xlabel='pref_lang', ylabel='count'>"
      ]
     },
     "execution_count": 31,
     "metadata": {},
     "output_type": "execute_result"
    },
    {
     "data": {
      "image/png": "[encoded data removed]",
      "text/plain": [
       "<Figure size 432x288 with 1 Axes>"
      ]
     },
     "metadata": {
      "needs_background": "light"
     },
     "output_type": "display_data"
    }
   ],
   "source": [
    "sns.countplot(x='pref_lang', hue='gender', data=df)"
   ]
  },
  {
   "cell_type": "markdown",
   "id": "ce38a615",
   "metadata": {},
   "source": [
    "#### This shows that the Preffered Language is Only Arabic"
   ]
  },
  {
   "cell_type": "code",
   "execution_count": null,
   "id": "92d0f16c",
   "metadata": {},
   "outputs": [],
   "source": []
  },
  {
   "cell_type": "code",
   "execution_count": 32,
   "id": "3bbd9320",
   "metadata": {},
   "outputs": [
    {
     "data": {
      "text/plain": [
       "[]"
      ]
     },
     "execution_count": 32,
     "metadata": {},
     "output_type": "execute_result"
    },
    {
     "data": {
      "image/png": "[encoded data removed]",
      "text/plain": [
       "<Figure size 432x288 with 1 Axes>"
      ]
     },
     "metadata": {
      "needs_background": "light"
     },
     "output_type": "display_data"
    }
   ],
   "source": [
    "sns.countplot(x='APPT_TYPE', data=df)\n",
    "plt.xticks(rotation=60)\n",
    "plt.plot()"
   ]
  },
  {
   "cell_type": "markdown",
   "id": "a1704f4a",
   "metadata": {},
   "source": [
    "#### This shows the Appointment Type of Patients. Mostly Patients are from Hemodialysis Acute Folow-up"
   ]
  },
  {
   "cell_type": "code",
   "execution_count": null,
   "id": "58501f46",
   "metadata": {},
   "outputs": [],
   "source": []
  },
  {
   "cell_type": "code",
   "execution_count": 33,
   "id": "6eca3ada",
   "metadata": {},
   "outputs": [
    {
     "data": {
      "text/plain": [
       "<AxesSubplot:xlabel='CLINIC_NAME', ylabel='count'>"
      ]
     },
     "execution_count": 33,
     "metadata": {},
     "output_type": "execute_result"
    },
    {
     "data": {
      "image/png": "[encoded data removed]",
      "text/plain": [
       "<Figure size 432x288 with 1 Axes>"
      ]
     },
     "metadata": {
      "needs_background": "light"
     },
     "output_type": "display_data"
    }
   ],
   "source": [
    "sns.countplot(x='CLINIC_NAME', data=df)"
   ]
  },
  {
   "cell_type": "markdown",
   "id": "5b6ca0e4",
   "metadata": {},
   "source": [
    "#### This shows that Patients have visited which Clinic Mostly."
   ]
  },
  {
   "cell_type": "code",
   "execution_count": null,
   "id": "aa85a3ff",
   "metadata": {},
   "outputs": [],
   "source": []
  },
  {
   "cell_type": "code",
   "execution_count": 34,
   "id": "ede4e215",
   "metadata": {},
   "outputs": [
    {
     "data": {
      "text/plain": [
       "<AxesSubplot:xlabel='SLOT_MNEMONIC', ylabel='count'>"
      ]
     },
     "execution_count": 34,
     "metadata": {},
     "output_type": "execute_result"
    },
    {
     "data": {
      "image/png": "[encoded data removed]",
      "text/plain": [
       "<Figure size 432x288 with 1 Axes>"
      ]
     },
     "metadata": {
      "needs_background": "light"
     },
     "output_type": "display_data"
    }
   ],
   "source": [
    "sns.countplot(x='SLOT_MNEMONIC',data=df)"
   ]
  },
  {
   "cell_type": "markdown",
   "id": "176fdea6",
   "metadata": {},
   "source": [
    "#### This shows the SLOT_MNEMONIC of Patients."
   ]
  },
  {
   "cell_type": "code",
   "execution_count": null,
   "id": "474d4f3c",
   "metadata": {},
   "outputs": [],
   "source": []
  },
  {
   "cell_type": "code",
   "execution_count": 35,
   "id": "6ef72273",
   "metadata": {},
   "outputs": [
    {
     "data": {
      "text/plain": [
       "<AxesSubplot:xlabel='MED_RESOURCE_SERVICES', ylabel='count'>"
      ]
     },
     "execution_count": 35,
     "metadata": {},
     "output_type": "execute_result"
    },
    {
     "data": {
      "image/png": "[encoded data removed]",
      "text/plain": [
       "<Figure size 432x288 with 1 Axes>"
      ]
     },
     "metadata": {
      "needs_background": "light"
     },
     "output_type": "display_data"
    }
   ],
   "source": [
    "sns.countplot(x='MED_RESOURCE_SERVICES', data=df)"
   ]
  },
  {
   "cell_type": "markdown",
   "id": "f066e017",
   "metadata": {},
   "source": [
    "#### This shows the Medical Resource Services "
   ]
  },
  {
   "cell_type": "code",
   "execution_count": null,
   "id": "e9d45926",
   "metadata": {},
   "outputs": [],
   "source": []
  },
  {
   "cell_type": "code",
   "execution_count": 36,
   "id": "dfeaf618",
   "metadata": {},
   "outputs": [
    {
     "data": {
      "text/plain": [
       "MED-Acute Hemodialysis Unit    1289\n",
       "Name: PRSNL_GROUP_NAME, dtype: int64"
      ]
     },
     "execution_count": 36,
     "metadata": {},
     "output_type": "execute_result"
    }
   ],
   "source": [
    "df['PRSNL_GROUP_NAME'].value_counts()"
   ]
  },
  {
   "cell_type": "markdown",
   "id": "568402c9",
   "metadata": {},
   "source": [
    "#### This shows that all the Patients have same Personal Group Name which is MED-Acute Hemodialysis Unit "
   ]
  },
  {
   "cell_type": "code",
   "execution_count": null,
   "id": "911a1237",
   "metadata": {},
   "outputs": [],
   "source": []
  },
  {
   "cell_type": "code",
   "execution_count": 37,
   "id": "8ae1b639",
   "metadata": {},
   "outputs": [
    {
     "data": {
      "text/plain": [
       "Medicine    1289\n",
       "Name: DEPARTMENT_NAME, dtype: int64"
      ]
     },
     "execution_count": 37,
     "metadata": {},
     "output_type": "execute_result"
    }
   ],
   "source": [
    "df['DEPARTMENT_NAME'].value_counts()"
   ]
  },
  {
   "cell_type": "markdown",
   "id": "5eab34be",
   "metadata": {},
   "source": [
    "#### This shows that all the Patients are from Medicine Department."
   ]
  },
  {
   "cell_type": "code",
   "execution_count": null,
   "id": "3caf52ed",
   "metadata": {},
   "outputs": [],
   "source": []
  },
  {
   "cell_type": "code",
   "execution_count": 38,
   "id": "18eb886d",
   "metadata": {},
   "outputs": [
    {
     "data": {
      "text/plain": [
       "Report Slot Group    1283\n",
       "Unknown                 6\n",
       "Name: SLOT_TYPE_DESC, dtype: int64"
      ]
     },
     "execution_count": 38,
     "metadata": {},
     "output_type": "execute_result"
    }
   ],
   "source": [
    "df['SLOT_TYPE_DESC'].value_counts()"
   ]
  },
  {
   "cell_type": "code",
   "execution_count": 39,
   "id": "65262afd",
   "metadata": {},
   "outputs": [
    {
     "data": {
      "text/plain": [
       "<AxesSubplot:xlabel='SLOT_TYPE_DESC', ylabel='count'>"
      ]
     },
     "execution_count": 39,
     "metadata": {},
     "output_type": "execute_result"
    },
    {
     "data": {
      "image/png": "[encoded data removed]",
      "text/plain": [
       "<Figure size 432x288 with 1 Axes>"
      ]
     },
     "metadata": {
      "needs_background": "light"
     },
     "output_type": "display_data"
    }
   ],
   "source": [
    "sns.countplot(x='SLOT_TYPE_DESC',data=df)"
   ]
  },
  {
   "cell_type": "markdown",
   "id": "0809a589",
   "metadata": {},
   "source": [
    "#### This shows that most of the Patients are from Report Slot Group and only 6 Patients are from Unknown slot"
   ]
  },
  {
   "cell_type": "code",
   "execution_count": 40,
   "id": "b5966e3b",
   "metadata": {},
   "outputs": [
    {
     "data": {
      "text/plain": [
       "<AxesSubplot:xlabel='MARITAL_STATUS', ylabel='count'>"
      ]
     },
     "execution_count": 40,
     "metadata": {},
     "output_type": "execute_result"
    },
    {
     "data": {
      "image/png": "[encoded data removed]",
      "text/plain": [
       "<Figure size 432x288 with 1 Axes>"
      ]
     },
     "metadata": {
      "needs_background": "light"
     },
     "output_type": "display_data"
    }
   ],
   "source": [
    "sns.countplot(x='MARITAL_STATUS', data=df)"
   ]
  },
  {
   "cell_type": "markdown",
   "id": "4aa4d6fc",
   "metadata": {},
   "source": [
    "#### This shows that mostly Married and Single persons have visited"
   ]
  },
  {
   "cell_type": "code",
   "execution_count": null,
   "id": "e9fe0adb",
   "metadata": {},
   "outputs": [],
   "source": []
  },
  {
   "cell_type": "markdown",
   "id": "75437905",
   "metadata": {},
   "source": [
    "### Let's analyze the Appointment Datetime and End Datetime"
   ]
  },
  {
   "cell_type": "code",
   "execution_count": 41,
   "id": "a8e99ddb",
   "metadata": {},
   "outputs": [
    {
     "data": {
      "text/html": [
       "<div>\n",
       "<style scoped>\n",
       "    .dataframe tbody tr th:only-of-type {\n",
       "        vertical-align: middle;\n",
       "    }\n",
       "\n",
       "    .dataframe tbody tr th {\n",
       "        vertical-align: top;\n",
       "    }\n",
       "\n",
       "    .dataframe thead th {\n",
       "        text-align: right;\n",
       "    }\n",
       "</style>\n",
       "<table border=\"1\" class=\"dataframe\">\n",
       "  <thead>\n",
       "    <tr style=\"text-align: right;\">\n",
       "      <th></th>\n",
       "      <th>APPT_DT_TM</th>\n",
       "      <th>END_DT_TM</th>\n",
       "    </tr>\n",
       "  </thead>\n",
       "  <tbody>\n",
       "    <tr>\n",
       "      <th>0</th>\n",
       "      <td>1/1/2019 13:50</td>\n",
       "      <td>1/1/2019 13:55</td>\n",
       "    </tr>\n",
       "    <tr>\n",
       "      <th>1</th>\n",
       "      <td>1/1/2019 14:20</td>\n",
       "      <td>1/1/2019 14:25</td>\n",
       "    </tr>\n",
       "    <tr>\n",
       "      <th>2</th>\n",
       "      <td>1/1/2019 8:30</td>\n",
       "      <td>1/1/2019 8:35</td>\n",
       "    </tr>\n",
       "    <tr>\n",
       "      <th>3</th>\n",
       "      <td>1/1/2020 13:30</td>\n",
       "      <td>1/1/2020 13:35</td>\n",
       "    </tr>\n",
       "    <tr>\n",
       "      <th>4</th>\n",
       "      <td>1/1/2020 14:00</td>\n",
       "      <td>1/1/2020 14:05</td>\n",
       "    </tr>\n",
       "    <tr>\n",
       "      <th>...</th>\n",
       "      <td>...</td>\n",
       "      <td>...</td>\n",
       "    </tr>\n",
       "    <tr>\n",
       "      <th>1284</th>\n",
       "      <td>9/9/2018 7:40</td>\n",
       "      <td>9/9/2018 7:45</td>\n",
       "    </tr>\n",
       "    <tr>\n",
       "      <th>1285</th>\n",
       "      <td>9/9/2018 8:00</td>\n",
       "      <td>9/9/2018 8:05</td>\n",
       "    </tr>\n",
       "    <tr>\n",
       "      <th>1286</th>\n",
       "      <td>9/9/2019 13:30</td>\n",
       "      <td>9/9/2019 13:35</td>\n",
       "    </tr>\n",
       "    <tr>\n",
       "      <th>1287</th>\n",
       "      <td>9/9/2019 14:10</td>\n",
       "      <td>9/9/2019 14:15</td>\n",
       "    </tr>\n",
       "    <tr>\n",
       "      <th>1288</th>\n",
       "      <td>9/9/2021 13:50</td>\n",
       "      <td>9/9/2021 13:55</td>\n",
       "    </tr>\n",
       "  </tbody>\n",
       "</table>\n",
       "<p>1289 rows × 2 columns</p>\n",
       "</div>"
      ],
      "text/plain": [
       "          APPT_DT_TM       END_DT_TM\n",
       "0     1/1/2019 13:50  1/1/2019 13:55\n",
       "1     1/1/2019 14:20  1/1/2019 14:25\n",
       "2      1/1/2019 8:30   1/1/2019 8:35\n",
       "3     1/1/2020 13:30  1/1/2020 13:35\n",
       "4     1/1/2020 14:00  1/1/2020 14:05\n",
       "...              ...             ...\n",
       "1284   9/9/2018 7:40   9/9/2018 7:45\n",
       "1285   9/9/2018 8:00   9/9/2018 8:05\n",
       "1286  9/9/2019 13:30  9/9/2019 13:35\n",
       "1287  9/9/2019 14:10  9/9/2019 14:15\n",
       "1288  9/9/2021 13:50  9/9/2021 13:55\n",
       "\n",
       "[1289 rows x 2 columns]"
      ]
     },
     "execution_count": 41,
     "metadata": {},
     "output_type": "execute_result"
    }
   ],
   "source": [
    "df[['APPT_DT_TM','END_DT_TM']]"
   ]
  },
  {
   "cell_type": "code",
   "execution_count": 42,
   "id": "122d5d46",
   "metadata": {},
   "outputs": [],
   "source": [
    "df['APPT_DT_TM'] = pd.to_datetime(df['APPT_DT_TM'])\n",
    "df['END_DT_TM'] = pd.to_datetime(df['END_DT_TM'])"
   ]
  },
  {
   "cell_type": "markdown",
   "id": "c0a11469",
   "metadata": {},
   "source": [
    "#### Calculating the Appointment Duration"
   ]
  },
  {
   "cell_type": "code",
   "execution_count": 43,
   "id": "38c170a4",
   "metadata": {},
   "outputs": [],
   "source": [
    "df['App_duration'] = df['END_DT_TM'] - df['APPT_DT_TM']"
   ]
  },
  {
   "cell_type": "code",
   "execution_count": 44,
   "id": "370224e6",
   "metadata": {},
   "outputs": [
    {
     "data": {
      "text/html": [
       "<div>\n",
       "<style scoped>\n",
       "    .dataframe tbody tr th:only-of-type {\n",
       "        vertical-align: middle;\n",
       "    }\n",
       "\n",
       "    .dataframe tbody tr th {\n",
       "        vertical-align: top;\n",
       "    }\n",
       "\n",
       "    .dataframe thead th {\n",
       "        text-align: right;\n",
       "    }\n",
       "</style>\n",
       "<table border=\"1\" class=\"dataframe\">\n",
       "  <thead>\n",
       "    <tr style=\"text-align: right;\">\n",
       "      <th></th>\n",
       "      <th>APPT_DT_TM</th>\n",
       "      <th>END_DT_TM</th>\n",
       "      <th>App_duration</th>\n",
       "    </tr>\n",
       "  </thead>\n",
       "  <tbody>\n",
       "    <tr>\n",
       "      <th>0</th>\n",
       "      <td>2019-01-01 13:50:00</td>\n",
       "      <td>2019-01-01 13:55:00</td>\n",
       "      <td>0 days 00:05:00</td>\n",
       "    </tr>\n",
       "    <tr>\n",
       "      <th>1</th>\n",
       "      <td>2019-01-01 14:20:00</td>\n",
       "      <td>2019-01-01 14:25:00</td>\n",
       "      <td>0 days 00:05:00</td>\n",
       "    </tr>\n",
       "    <tr>\n",
       "      <th>2</th>\n",
       "      <td>2019-01-01 08:30:00</td>\n",
       "      <td>2019-01-01 08:35:00</td>\n",
       "      <td>0 days 00:05:00</td>\n",
       "    </tr>\n",
       "    <tr>\n",
       "      <th>3</th>\n",
       "      <td>2020-01-01 13:30:00</td>\n",
       "      <td>2020-01-01 13:35:00</td>\n",
       "      <td>0 days 00:05:00</td>\n",
       "    </tr>\n",
       "    <tr>\n",
       "      <th>4</th>\n",
       "      <td>2020-01-01 14:00:00</td>\n",
       "      <td>2020-01-01 14:05:00</td>\n",
       "      <td>0 days 00:05:00</td>\n",
       "    </tr>\n",
       "    <tr>\n",
       "      <th>...</th>\n",
       "      <td>...</td>\n",
       "      <td>...</td>\n",
       "      <td>...</td>\n",
       "    </tr>\n",
       "    <tr>\n",
       "      <th>1284</th>\n",
       "      <td>2018-09-09 07:40:00</td>\n",
       "      <td>2018-09-09 07:45:00</td>\n",
       "      <td>0 days 00:05:00</td>\n",
       "    </tr>\n",
       "    <tr>\n",
       "      <th>1285</th>\n",
       "      <td>2018-09-09 08:00:00</td>\n",
       "      <td>2018-09-09 08:05:00</td>\n",
       "      <td>0 days 00:05:00</td>\n",
       "    </tr>\n",
       "    <tr>\n",
       "      <th>1286</th>\n",
       "      <td>2019-09-09 13:30:00</td>\n",
       "      <td>2019-09-09 13:35:00</td>\n",
       "      <td>0 days 00:05:00</td>\n",
       "    </tr>\n",
       "    <tr>\n",
       "      <th>1287</th>\n",
       "      <td>2019-09-09 14:10:00</td>\n",
       "      <td>2019-09-09 14:15:00</td>\n",
       "      <td>0 days 00:05:00</td>\n",
       "    </tr>\n",
       "    <tr>\n",
       "      <th>1288</th>\n",
       "      <td>2021-09-09 13:50:00</td>\n",
       "      <td>2021-09-09 13:55:00</td>\n",
       "      <td>0 days 00:05:00</td>\n",
       "    </tr>\n",
       "  </tbody>\n",
       "</table>\n",
       "<p>1289 rows × 3 columns</p>\n",
       "</div>"
      ],
      "text/plain": [
       "              APPT_DT_TM           END_DT_TM    App_duration\n",
       "0    2019-01-01 13:50:00 2019-01-01 13:55:00 0 days 00:05:00\n",
       "1    2019-01-01 14:20:00 2019-01-01 14:25:00 0 days 00:05:00\n",
       "2    2019-01-01 08:30:00 2019-01-01 08:35:00 0 days 00:05:00\n",
       "3    2020-01-01 13:30:00 2020-01-01 13:35:00 0 days 00:05:00\n",
       "4    2020-01-01 14:00:00 2020-01-01 14:05:00 0 days 00:05:00\n",
       "...                  ...                 ...             ...\n",
       "1284 2018-09-09 07:40:00 2018-09-09 07:45:00 0 days 00:05:00\n",
       "1285 2018-09-09 08:00:00 2018-09-09 08:05:00 0 days 00:05:00\n",
       "1286 2019-09-09 13:30:00 2019-09-09 13:35:00 0 days 00:05:00\n",
       "1287 2019-09-09 14:10:00 2019-09-09 14:15:00 0 days 00:05:00\n",
       "1288 2021-09-09 13:50:00 2021-09-09 13:55:00 0 days 00:05:00\n",
       "\n",
       "[1289 rows x 3 columns]"
      ]
     },
     "execution_count": 44,
     "metadata": {},
     "output_type": "execute_result"
    }
   ],
   "source": [
    "df[['APPT_DT_TM','END_DT_TM','App_duration']]"
   ]
  },
  {
   "cell_type": "code",
   "execution_count": 45,
   "id": "cf5b7ce9",
   "metadata": {},
   "outputs": [
    {
     "data": {
      "text/plain": [
       "0 days 00:05:00    1285\n",
       "0 days 01:00:00       4\n",
       "Name: App_duration, dtype: int64"
      ]
     },
     "execution_count": 45,
     "metadata": {},
     "output_type": "execute_result"
    }
   ],
   "source": [
    "df['App_duration'].value_counts()"
   ]
  },
  {
   "cell_type": "code",
   "execution_count": 46,
   "id": "d89430a7",
   "metadata": {},
   "outputs": [
    {
     "data": {
      "text/plain": [
       "<AxesSubplot:>"
      ]
     },
     "execution_count": 46,
     "metadata": {},
     "output_type": "execute_result"
    },
    {
     "data": {
      "image/png": "[encoded data removed]",
      "text/plain": [
       "<Figure size 432x288 with 1 Axes>"
      ]
     },
     "metadata": {
      "needs_background": "light"
     },
     "output_type": "display_data"
    }
   ],
   "source": [
    "df['App_duration'].value_counts().plot(kind='bar')"
   ]
  },
  {
   "cell_type": "markdown",
   "id": "66c145f7",
   "metadata": {},
   "source": [
    "#### This shows that Most of the Appointment Duration is only 5 Minutes. and there are 4 Appointments which are of 1 Hour."
   ]
  },
  {
   "cell_type": "code",
   "execution_count": null,
   "id": "5a49c589",
   "metadata": {},
   "outputs": [],
   "source": []
  },
  {
   "cell_type": "markdown",
   "id": "32dcbf1d",
   "metadata": {},
   "source": [
    "### Let's Look at the OutPATIENT recommendations"
   ]
  },
  {
   "cell_type": "code",
   "execution_count": 47,
   "id": "6d152499",
   "metadata": {},
   "outputs": [
    {
     "data": {
      "text/plain": [
       "<AxesSubplot:xlabel='op_sch', ylabel='count'>"
      ]
     },
     "execution_count": 47,
     "metadata": {},
     "output_type": "execute_result"
    },
    {
     "data": {
      "image/png": "[encoded data removed]",
      "text/plain": [
       "<Figure size 432x288 with 1 Axes>"
      ]
     },
     "metadata": {
      "needs_background": "light"
     },
     "output_type": "display_data"
    }
   ],
   "source": [
    "sns.countplot(x='op_sch', data=df)\n"
   ]
  },
  {
   "cell_type": "code",
   "execution_count": 48,
   "id": "17cf65c2",
   "metadata": {},
   "outputs": [
    {
     "data": {
      "text/plain": [
       "<AxesSubplot:xlabel='op_reg_staff', ylabel='count'>"
      ]
     },
     "execution_count": 48,
     "metadata": {},
     "output_type": "execute_result"
    },
    {
     "data": {
      "image/png": "[encoded data removed]",
      "text/plain": [
       "<Figure size 432x288 with 1 Axes>"
      ]
     },
     "metadata": {
      "needs_background": "light"
     },
     "output_type": "display_data"
    }
   ],
   "source": [
    "sns.countplot(x='op_reg_staff', data=df)\n"
   ]
  },
  {
   "cell_type": "markdown",
   "id": "328be6f0",
   "metadata": {},
   "source": [
    "#### There are only 2 recommendation columns of OutPatient."
   ]
  },
  {
   "cell_type": "markdown",
   "id": "651cf8d2",
   "metadata": {},
   "source": [
    "### Let's filter those records which have less than 4 rating on op_sch (Ease of scheduling your appointment)"
   ]
  },
  {
   "cell_type": "code",
   "execution_count": 49,
   "id": "fda49f76",
   "metadata": {},
   "outputs": [],
   "source": [
    "op_sch_3 = df[df['op_sch'] < 4]"
   ]
  },
  {
   "cell_type": "code",
   "execution_count": 50,
   "id": "60dba067",
   "metadata": {},
   "outputs": [
    {
     "data": {
      "text/plain": [
       "(20, 91)"
      ]
     },
     "execution_count": 50,
     "metadata": {},
     "output_type": "execute_result"
    }
   ],
   "source": [
    "op_sch_3.shape"
   ]
  },
  {
   "cell_type": "code",
   "execution_count": 51,
   "id": "fd4ae865",
   "metadata": {},
   "outputs": [
    {
     "data": {
      "text/plain": [
       "[]"
      ]
     },
     "execution_count": 51,
     "metadata": {},
     "output_type": "execute_result"
    },
    {
     "data": {
      "image/png": "[encoded data removed]",
      "text/plain": [
       "<Figure size 432x288 with 1 Axes>"
      ]
     },
     "metadata": {
      "needs_background": "light"
     },
     "output_type": "display_data"
    }
   ],
   "source": [
    "sns.countplot(x='age_bins', hue='gender', data=op_sch_3)\n",
    "plt.xticks(rotation=60)\n",
    "plt.plot()"
   ]
  },
  {
   "cell_type": "markdown",
   "id": "c7f10379",
   "metadata": {},
   "source": [
    "#### This shows that mostly unsatisfied patients are from 20-30 Females and 60-70 age group and mostly 70-80 Males."
   ]
  },
  {
   "cell_type": "code",
   "execution_count": 52,
   "id": "a9608b12",
   "metadata": {},
   "outputs": [
    {
     "data": {
      "text/plain": [
       "[]"
      ]
     },
     "execution_count": 52,
     "metadata": {},
     "output_type": "execute_result"
    },
    {
     "data": {
      "image/png": "[encoded data removed]",
      "text/plain": [
       "<Figure size 432x288 with 1 Axes>"
      ]
     },
     "metadata": {
      "needs_background": "light"
     },
     "output_type": "display_data"
    }
   ],
   "source": [
    "sns.countplot(x='year', data=op_sch_3)\n",
    "plt.xticks(rotation=60)\n",
    "plt.plot()"
   ]
  },
  {
   "cell_type": "markdown",
   "id": "240e8486",
   "metadata": {},
   "source": [
    "#### This shows that mostly unsatisfied outpatients are from year 2018 and 2019. and there are no unsatisfied patients are from 2020 and 2021"
   ]
  },
  {
   "cell_type": "code",
   "execution_count": null,
   "id": "14f25de2",
   "metadata": {},
   "outputs": [],
   "source": []
  },
  {
   "cell_type": "code",
   "execution_count": 53,
   "id": "7e2981ff",
   "metadata": {},
   "outputs": [
    {
     "data": {
      "text/plain": [
       "[]"
      ]
     },
     "execution_count": 53,
     "metadata": {},
     "output_type": "execute_result"
    },
    {
     "data": {
      "image/png": "[encoded data removed]",
      "text/plain": [
       "<Figure size 432x288 with 1 Axes>"
      ]
     },
     "metadata": {
      "needs_background": "light"
     },
     "output_type": "display_data"
    }
   ],
   "source": [
    "sns.countplot(x='APPT_TYPE', data=op_sch_3)\n",
    "plt.xticks(rotation=60)\n",
    "plt.plot()"
   ]
  },
  {
   "cell_type": "markdown",
   "id": "a4668534",
   "metadata": {},
   "source": [
    "#### This shows that mostly unsatisfied outpatients Have Hemodialysis Acute Followup and Chronic Follow up."
   ]
  },
  {
   "cell_type": "code",
   "execution_count": null,
   "id": "b80bfcca",
   "metadata": {},
   "outputs": [],
   "source": []
  },
  {
   "cell_type": "code",
   "execution_count": 54,
   "id": "e6e55c6f",
   "metadata": {},
   "outputs": [
    {
     "data": {
      "text/plain": [
       "[]"
      ]
     },
     "execution_count": 54,
     "metadata": {},
     "output_type": "execute_result"
    },
    {
     "data": {
      "image/png": "[encoded data removed]",
      "text/plain": [
       "<Figure size 432x288 with 1 Axes>"
      ]
     },
     "metadata": {
      "needs_background": "light"
     },
     "output_type": "display_data"
    }
   ],
   "source": [
    "sns.countplot(x='reg_type', hue='gender', data=op_sch_3)\n",
    "plt.xticks(rotation=60)\n",
    "plt.plot()"
   ]
  },
  {
   "cell_type": "markdown",
   "id": "c12fa040",
   "metadata": {},
   "source": [
    "#### This shows that Only ORDINARY registration Types have given low rating"
   ]
  },
  {
   "cell_type": "markdown",
   "id": "610d0ce2",
   "metadata": {},
   "source": [
    "### Let's filter those records which have less than 4 rating on op_reg_staff (Courtesy of person who scheduled your appointment)"
   ]
  },
  {
   "cell_type": "code",
   "execution_count": 55,
   "id": "701d8aa8",
   "metadata": {},
   "outputs": [],
   "source": [
    "op_regstaff_3 = df[df['op_reg_staff'] < 4]"
   ]
  },
  {
   "cell_type": "code",
   "execution_count": 56,
   "id": "b9643aee",
   "metadata": {},
   "outputs": [
    {
     "data": {
      "text/plain": [
       "(29, 91)"
      ]
     },
     "execution_count": 56,
     "metadata": {},
     "output_type": "execute_result"
    }
   ],
   "source": [
    "op_regstaff_3.shape"
   ]
  },
  {
   "cell_type": "code",
   "execution_count": 57,
   "id": "d7726ec6",
   "metadata": {},
   "outputs": [
    {
     "data": {
      "text/plain": [
       "[]"
      ]
     },
     "execution_count": 57,
     "metadata": {},
     "output_type": "execute_result"
    },
    {
     "data": {
      "image/png": "[encoded data removed]",
      "text/plain": [
       "<Figure size 432x288 with 1 Axes>"
      ]
     },
     "metadata": {
      "needs_background": "light"
     },
     "output_type": "display_data"
    }
   ],
   "source": [
    "sns.countplot(x='age_bins',hue='gender', data=op_regstaff_3)\n",
    "plt.xticks(rotation=60)\n",
    "plt.plot()"
   ]
  },
  {
   "cell_type": "markdown",
   "id": "8ba899f7",
   "metadata": {},
   "source": [
    "#### This shows that mostly unsatisfied patients are from 50-60 and 60-70 age group and these are mostly men. and the 20-30 age groups have mostly females that are not satisfied."
   ]
  },
  {
   "cell_type": "code",
   "execution_count": 58,
   "id": "4f71b61b",
   "metadata": {},
   "outputs": [
    {
     "data": {
      "text/plain": [
       "[]"
      ]
     },
     "execution_count": 58,
     "metadata": {},
     "output_type": "execute_result"
    },
    {
     "data": {
      "image/png": "[encoded data removed]",
      "text/plain": [
       "<Figure size 432x288 with 1 Axes>"
      ]
     },
     "metadata": {
      "needs_background": "light"
     },
     "output_type": "display_data"
    }
   ],
   "source": [
    "sns.countplot(x='year', data=op_regstaff_3)\n",
    "plt.xticks(rotation=60)\n",
    "plt.plot()"
   ]
  },
  {
   "cell_type": "markdown",
   "id": "dfccb5ed",
   "metadata": {},
   "source": [
    "#### This shows that mostly unsatisfied outpatients are from year 2018 and 2019. and there are no unsatisfied patients are from 2020 and 2021"
   ]
  },
  {
   "cell_type": "code",
   "execution_count": 59,
   "id": "8c35ad50",
   "metadata": {},
   "outputs": [
    {
     "data": {
      "text/plain": [
       "[]"
      ]
     },
     "execution_count": 59,
     "metadata": {},
     "output_type": "execute_result"
    },
    {
     "data": {
      "image/png": "[encoded data removed]",
      "text/plain": [
       "<Figure size 432x288 with 1 Axes>"
      ]
     },
     "metadata": {
      "needs_background": "light"
     },
     "output_type": "display_data"
    }
   ],
   "source": [
    "sns.countplot(x='APPT_TYPE', data=op_regstaff_3)\n",
    "plt.xticks(rotation=60)\n",
    "plt.plot()"
   ]
  },
  {
   "cell_type": "markdown",
   "id": "179b96c6",
   "metadata": {},
   "source": [
    "#### This shows that mostly unsatisfied outpatients Have Hemodialysis Acute Followup and Chronic Follow up."
   ]
  },
  {
   "cell_type": "code",
   "execution_count": null,
   "id": "4800e7c2",
   "metadata": {},
   "outputs": [],
   "source": []
  },
  {
   "cell_type": "markdown",
   "id": "302ae82c",
   "metadata": {},
   "source": [
    "## As of the Ambulatory Surgery Patient there are many Recommendation features that shows the Patient's responses. but we will see the Unsatisfactory responses of overall Assessment for now."
   ]
  },
  {
   "cell_type": "markdown",
   "id": "dd0bff11",
   "metadata": {},
   "source": [
    "### Let's First See the Unsatisfactory responses of Overall rating of care received during theriv Vist"
   ]
  },
  {
   "cell_type": "code",
   "execution_count": 60,
   "id": "feb02720",
   "metadata": {},
   "outputs": [],
   "source": [
    "df_overcare_3 = df[df['as_over_care'] < 4]"
   ]
  },
  {
   "cell_type": "code",
   "execution_count": 61,
   "id": "b6ff38e8",
   "metadata": {},
   "outputs": [
    {
     "data": {
      "text/plain": [
       "(59, 91)"
      ]
     },
     "execution_count": 61,
     "metadata": {},
     "output_type": "execute_result"
    }
   ],
   "source": [
    "df_overcare_3.shape"
   ]
  },
  {
   "cell_type": "code",
   "execution_count": 62,
   "id": "c5668716",
   "metadata": {},
   "outputs": [
    {
     "data": {
      "text/plain": [
       "[]"
      ]
     },
     "execution_count": 62,
     "metadata": {},
     "output_type": "execute_result"
    },
    {
     "data": {
      "image/png": "[encoded data removed]",
      "text/plain": [
       "<Figure size 432x288 with 1 Axes>"
      ]
     },
     "metadata": {
      "needs_background": "light"
     },
     "output_type": "display_data"
    }
   ],
   "source": [
    "sns.countplot(x='age_bins', data=df_overcare_3)\n",
    "plt.xticks(rotation=60)\n",
    "plt.plot()"
   ]
  },
  {
   "cell_type": "markdown",
   "id": "5eca3ac2",
   "metadata": {},
   "source": [
    "#### This shows that mostly unsatisfied patients are from 50-60 age group."
   ]
  },
  {
   "cell_type": "code",
   "execution_count": 63,
   "id": "8987212e",
   "metadata": {},
   "outputs": [
    {
     "data": {
      "text/plain": [
       "[]"
      ]
     },
     "execution_count": 63,
     "metadata": {},
     "output_type": "execute_result"
    },
    {
     "data": {
      "image/png": "[encoded data removed]",
      "text/plain": [
       "<Figure size 432x288 with 1 Axes>"
      ]
     },
     "metadata": {
      "needs_background": "light"
     },
     "output_type": "display_data"
    }
   ],
   "source": [
    "sns.countplot(x='age_bins',hue='gender', data=df_overcare_3)\n",
    "plt.xticks(rotation=60)\n",
    "plt.plot()"
   ]
  },
  {
   "cell_type": "markdown",
   "id": "79428c98",
   "metadata": {},
   "source": [
    "#### This shows that mostly Females are not satisfied and 50-60 females are mostly not satisfied"
   ]
  },
  {
   "cell_type": "code",
   "execution_count": 64,
   "id": "980a0702",
   "metadata": {},
   "outputs": [
    {
     "data": {
      "text/plain": [
       "[]"
      ]
     },
     "execution_count": 64,
     "metadata": {},
     "output_type": "execute_result"
    },
    {
     "data": {
      "image/png": "[encoded data removed]",
      "text/plain": [
       "<Figure size 432x288 with 1 Axes>"
      ]
     },
     "metadata": {
      "needs_background": "light"
     },
     "output_type": "display_data"
    }
   ],
   "source": [
    "sns.countplot(x='year', data=df_overcare_3)\n",
    "plt.xticks(rotation=60)\n",
    "plt.plot()"
   ]
  },
  {
   "cell_type": "markdown",
   "id": "e4890e27",
   "metadata": {},
   "source": [
    "#### This shows that mostly patients are unsatisfied in the year 2019."
   ]
  },
  {
   "cell_type": "code",
   "execution_count": 65,
   "id": "1ddc0e40",
   "metadata": {},
   "outputs": [
    {
     "data": {
      "text/plain": [
       "[]"
      ]
     },
     "execution_count": 65,
     "metadata": {},
     "output_type": "execute_result"
    },
    {
     "data": {
      "image/png": "[encoded data removed]",
      "text/plain": [
       "<Figure size 432x288 with 1 Axes>"
      ]
     },
     "metadata": {
      "needs_background": "light"
     },
     "output_type": "display_data"
    }
   ],
   "source": [
    "sns.countplot(x='APPT_TYPE', data=df_overcare_3)\n",
    "plt.xticks(rotation=60)\n",
    "plt.plot()"
   ]
  },
  {
   "cell_type": "markdown",
   "id": "ccc5ef18",
   "metadata": {},
   "source": [
    "#### This shows that Most of the Patients are Unsatisfied from the Hemodialysis Acute Follow-up Appointment Type"
   ]
  },
  {
   "cell_type": "code",
   "execution_count": null,
   "id": "64ef1a1b",
   "metadata": {},
   "outputs": [],
   "source": []
  },
  {
   "cell_type": "code",
   "execution_count": 66,
   "id": "a7702a9a",
   "metadata": {},
   "outputs": [
    {
     "data": {
      "text/plain": [
       "[]"
      ]
     },
     "execution_count": 66,
     "metadata": {},
     "output_type": "execute_result"
    },
    {
     "data": {
      "image/png": "[encoded data removed]",
      "text/plain": [
       "<Figure size 432x288 with 1 Axes>"
      ]
     },
     "metadata": {
      "needs_background": "light"
     },
     "output_type": "display_data"
    }
   ],
   "source": [
    "sns.countplot(x='reg_type', hue='gender', data=df_overcare_3)\n",
    "plt.xticks(rotation=60)\n",
    "plt.plot()"
   ]
  },
  {
   "cell_type": "markdown",
   "id": "e308234f",
   "metadata": {},
   "source": [
    "#### This shows that Mostly Female Ordinary Registration types are unsatisfied and some of the Employee Females are unsatisfied. "
   ]
  },
  {
   "cell_type": "markdown",
   "id": "3e497048",
   "metadata": {},
   "source": [
    "### This Summarizes that Most of the Females in every feature are not satisfied with Overall rating of care received during their visit"
   ]
  },
  {
   "cell_type": "markdown",
   "id": "a71e3cf3",
   "metadata": {},
   "source": [
    "### Now we will see How well staff at the surgery center worked together to care for you "
   ]
  },
  {
   "cell_type": "code",
   "execution_count": 67,
   "id": "0063a35a",
   "metadata": {},
   "outputs": [],
   "source": [
    "df_overstaff_3 = df[df['as_over_staff'] < 4]"
   ]
  },
  {
   "cell_type": "code",
   "execution_count": 68,
   "id": "b4153bd4",
   "metadata": {},
   "outputs": [
    {
     "data": {
      "text/plain": [
       "(69, 91)"
      ]
     },
     "execution_count": 68,
     "metadata": {},
     "output_type": "execute_result"
    }
   ],
   "source": [
    "df_overstaff_3.shape"
   ]
  },
  {
   "cell_type": "code",
   "execution_count": 69,
   "id": "66d8f00b",
   "metadata": {},
   "outputs": [
    {
     "data": {
      "text/plain": [
       "[]"
      ]
     },
     "execution_count": 69,
     "metadata": {},
     "output_type": "execute_result"
    },
    {
     "data": {
      "image/png": "[encoded data removed]",
      "text/plain": [
       "<Figure size 432x288 with 1 Axes>"
      ]
     },
     "metadata": {
      "needs_background": "light"
     },
     "output_type": "display_data"
    }
   ],
   "source": [
    "sns.countplot(x='age_bins', data=df_overstaff_3)\n",
    "plt.xticks(rotation=60)\n",
    "plt.plot()"
   ]
  },
  {
   "cell_type": "markdown",
   "id": "b7d73b45",
   "metadata": {},
   "source": [
    "#### This shows that mostly unsatisfied patients are from 50-60 age group."
   ]
  },
  {
   "cell_type": "code",
   "execution_count": 70,
   "id": "8efe2804",
   "metadata": {},
   "outputs": [
    {
     "data": {
      "text/plain": [
       "[]"
      ]
     },
     "execution_count": 70,
     "metadata": {},
     "output_type": "execute_result"
    },
    {
     "data": {
      "image/png": "[encoded data removed]",
      "text/plain": [
       "<Figure size 432x288 with 1 Axes>"
      ]
     },
     "metadata": {
      "needs_background": "light"
     },
     "output_type": "display_data"
    }
   ],
   "source": [
    "sns.countplot(x='age_bins',hue='gender', data=df_overstaff_3)\n",
    "plt.xticks(rotation=60)\n",
    "plt.plot()"
   ]
  },
  {
   "cell_type": "markdown",
   "id": "564aac2a",
   "metadata": {},
   "source": [
    "#### This shows that mostly mails aged from 50-60 groups are unsatisfied."
   ]
  },
  {
   "cell_type": "code",
   "execution_count": 71,
   "id": "2592ed98",
   "metadata": {},
   "outputs": [
    {
     "data": {
      "text/plain": [
       "[]"
      ]
     },
     "execution_count": 71,
     "metadata": {},
     "output_type": "execute_result"
    },
    {
     "data": {
      "image/png": "[encoded data removed]",
      "text/plain": [
       "<Figure size 432x288 with 1 Axes>"
      ]
     },
     "metadata": {
      "needs_background": "light"
     },
     "output_type": "display_data"
    }
   ],
   "source": [
    "sns.countplot(x='year', hue='gender',data=df_overstaff_3)\n",
    "plt.xticks(rotation=60)\n",
    "plt.plot()"
   ]
  },
  {
   "cell_type": "markdown",
   "id": "8a4c0218",
   "metadata": {},
   "source": [
    "#### This shows that mostly patients are unsatisfied in the year 2019"
   ]
  },
  {
   "cell_type": "code",
   "execution_count": 72,
   "id": "ad8533e1",
   "metadata": {},
   "outputs": [
    {
     "data": {
      "text/plain": [
       "[]"
      ]
     },
     "execution_count": 72,
     "metadata": {},
     "output_type": "execute_result"
    },
    {
     "data": {
      "image/png": "[encoded data removed]",
      "text/plain": [
       "<Figure size 432x288 with 1 Axes>"
      ]
     },
     "metadata": {
      "needs_background": "light"
     },
     "output_type": "display_data"
    }
   ],
   "source": [
    "sns.countplot(x='APPT_TYPE', data=df_overstaff_3)\n",
    "plt.xticks(rotation=60)\n",
    "plt.plot()"
   ]
  },
  {
   "cell_type": "markdown",
   "id": "5399110a",
   "metadata": {},
   "source": [
    "#### This shows that Most of the Patients are Unsatisfied from the Hemodialysis Acute Follow-up Appointment Type¶"
   ]
  },
  {
   "cell_type": "code",
   "execution_count": 73,
   "id": "2ef39518",
   "metadata": {},
   "outputs": [
    {
     "data": {
      "text/plain": [
       "[]"
      ]
     },
     "execution_count": 73,
     "metadata": {},
     "output_type": "execute_result"
    },
    {
     "data": {
      "image/png": "[encoded data removed]",
      "text/plain": [
       "<Figure size 432x288 with 1 Axes>"
      ]
     },
     "metadata": {
      "needs_background": "light"
     },
     "output_type": "display_data"
    }
   ],
   "source": [
    "sns.countplot(x='reg_type', hue='gender', data=df_overstaff_3)\n",
    "plt.xticks(rotation=60)\n",
    "plt.plot()"
   ]
  },
  {
   "cell_type": "markdown",
   "id": "d852bc6c",
   "metadata": {},
   "source": [
    "#### This shows that Mostly Male Ordinary Registration types are unsatisfied and some of the Employee are unsatisfied.¶"
   ]
  },
  {
   "cell_type": "code",
   "execution_count": null,
   "id": "cbbe21e3",
   "metadata": {},
   "outputs": [],
   "source": []
  },
  {
   "cell_type": "code",
   "execution_count": 74,
   "id": "94a2a022",
   "metadata": {},
   "outputs": [
    {
     "data": {
      "text/plain": [
       "[]"
      ]
     },
     "execution_count": 74,
     "metadata": {},
     "output_type": "execute_result"
    },
    {
     "data": {
      "image/png": "[encoded data removed]",
      "text/plain": [
       "<Figure size 432x288 with 1 Axes>"
      ]
     },
     "metadata": {
      "needs_background": "light"
     },
     "output_type": "display_data"
    }
   ],
   "source": [
    "sns.countplot(x='MARITAL_STATUS', hue='gender', data=df_overstaff_3)\n",
    "plt.xticks(rotation=60)\n",
    "plt.plot()"
   ]
  },
  {
   "cell_type": "markdown",
   "id": "21dbb90d",
   "metadata": {},
   "source": [
    "#### This shows that mostly Married and Singles are unsatisfied"
   ]
  },
  {
   "cell_type": "code",
   "execution_count": null,
   "id": "de3c07bb",
   "metadata": {},
   "outputs": [],
   "source": []
  },
  {
   "cell_type": "markdown",
   "id": "9f819f90",
   "metadata": {},
   "source": [
    "### Now we will see Likelihood of your recommending our Ambulatory Services to others"
   ]
  },
  {
   "cell_type": "code",
   "execution_count": 75,
   "id": "bdca0810",
   "metadata": {},
   "outputs": [],
   "source": [
    "df_overrecom_3 = df[df['as_over_recommend'] < 4]"
   ]
  },
  {
   "cell_type": "code",
   "execution_count": 76,
   "id": "12d7bc62",
   "metadata": {},
   "outputs": [
    {
     "data": {
      "text/plain": [
       "(51, 91)"
      ]
     },
     "execution_count": 76,
     "metadata": {},
     "output_type": "execute_result"
    }
   ],
   "source": [
    "df_overrecom_3.shape"
   ]
  },
  {
   "cell_type": "code",
   "execution_count": 77,
   "id": "f4947427",
   "metadata": {},
   "outputs": [
    {
     "data": {
      "text/plain": [
       "[]"
      ]
     },
     "execution_count": 77,
     "metadata": {},
     "output_type": "execute_result"
    },
    {
     "data": {
      "image/png": "[encoded data removed]",
      "text/plain": [
       "<Figure size 432x288 with 1 Axes>"
      ]
     },
     "metadata": {
      "needs_background": "light"
     },
     "output_type": "display_data"
    }
   ],
   "source": [
    "sns.countplot(x='age_bins', data=df_overrecom_3)\n",
    "plt.xticks(rotation=60)\n",
    "plt.plot()"
   ]
  },
  {
   "cell_type": "markdown",
   "id": "75fe1a50",
   "metadata": {},
   "source": [
    "#### This shows that mostly unsatisfied patients are from 50-60 and 60-70 age group."
   ]
  },
  {
   "cell_type": "code",
   "execution_count": null,
   "id": "22844796",
   "metadata": {},
   "outputs": [],
   "source": []
  },
  {
   "cell_type": "code",
   "execution_count": 78,
   "id": "b50fa688",
   "metadata": {},
   "outputs": [
    {
     "data": {
      "text/plain": [
       "[]"
      ]
     },
     "execution_count": 78,
     "metadata": {},
     "output_type": "execute_result"
    },
    {
     "data": {
      "image/png": "[encoded data removed]",
      "text/plain": [
       "<Figure size 432x288 with 1 Axes>"
      ]
     },
     "metadata": {
      "needs_background": "light"
     },
     "output_type": "display_data"
    }
   ],
   "source": [
    "sns.countplot(x='age_bins',hue='gender', data=df_overrecom_3)\n",
    "plt.xticks(rotation=60)\n",
    "plt.plot()"
   ]
  },
  {
   "cell_type": "markdown",
   "id": "3dade7f7",
   "metadata": {},
   "source": [
    "#### This shows that most of the mail of ages 50-60 and females of age 60-70 are unsatisfied."
   ]
  },
  {
   "cell_type": "code",
   "execution_count": 79,
   "id": "9ff51703",
   "metadata": {},
   "outputs": [
    {
     "data": {
      "text/plain": [
       "[]"
      ]
     },
     "execution_count": 79,
     "metadata": {},
     "output_type": "execute_result"
    },
    {
     "data": {
      "image/png": "[encoded data removed]",
      "text/plain": [
       "<Figure size 432x288 with 1 Axes>"
      ]
     },
     "metadata": {
      "needs_background": "light"
     },
     "output_type": "display_data"
    }
   ],
   "source": [
    "sns.countplot(x='year', hue='gender',data=df_overrecom_3)\n",
    "plt.xticks(rotation=60)\n",
    "plt.plot()"
   ]
  },
  {
   "cell_type": "markdown",
   "id": "d2117645",
   "metadata": {},
   "source": [
    "#### This shows that most of the unsatisfied patients are from 2019. and mostly females from 2018 and mostly males are from 2020."
   ]
  },
  {
   "cell_type": "code",
   "execution_count": null,
   "id": "dde0bd32",
   "metadata": {},
   "outputs": [],
   "source": []
  },
  {
   "cell_type": "code",
   "execution_count": 80,
   "id": "430addce",
   "metadata": {},
   "outputs": [
    {
     "data": {
      "text/plain": [
       "[]"
      ]
     },
     "execution_count": 80,
     "metadata": {},
     "output_type": "execute_result"
    },
    {
     "data": {
      "image/png": "[encoded data removed]",
      "text/plain": [
       "<Figure size 432x288 with 1 Axes>"
      ]
     },
     "metadata": {
      "needs_background": "light"
     },
     "output_type": "display_data"
    }
   ],
   "source": [
    "sns.countplot(x='APPT_TYPE', data=df_overrecom_3)\n",
    "plt.xticks(rotation=60)\n",
    "plt.plot()"
   ]
  },
  {
   "cell_type": "markdown",
   "id": "9f8e112b",
   "metadata": {},
   "source": [
    "#### This shows that Most of the Patients are Unsatisfied from the Hemodialysis Acute Follow-up Appointment Type¶"
   ]
  },
  {
   "cell_type": "code",
   "execution_count": null,
   "id": "f270f692",
   "metadata": {},
   "outputs": [],
   "source": []
  },
  {
   "cell_type": "code",
   "execution_count": 81,
   "id": "99f8d070",
   "metadata": {},
   "outputs": [
    {
     "data": {
      "text/plain": [
       "[]"
      ]
     },
     "execution_count": 81,
     "metadata": {},
     "output_type": "execute_result"
    },
    {
     "data": {
      "image/png": "[encoded data removed]",
      "text/plain": [
       "<Figure size 432x288 with 1 Axes>"
      ]
     },
     "metadata": {
      "needs_background": "light"
     },
     "output_type": "display_data"
    }
   ],
   "source": [
    "sns.countplot(x='MARITAL_STATUS', hue='gender', data=df_overrecom_3)\n",
    "plt.xticks(rotation=60)\n",
    "plt.plot()"
   ]
  },
  {
   "cell_type": "markdown",
   "id": "fa56eece",
   "metadata": {},
   "source": [
    "#### This shows that mostly Married Females and Single Males are Unsatisfied "
   ]
  },
  {
   "cell_type": "code",
   "execution_count": null,
   "id": "e5cdd0ff",
   "metadata": {},
   "outputs": [],
   "source": []
  },
  {
   "cell_type": "code",
   "execution_count": 82,
   "id": "752f35e4",
   "metadata": {},
   "outputs": [
    {
     "data": {
      "text/html": [
       "<div>\n",
       "<style scoped>\n",
       "    .dataframe tbody tr th:only-of-type {\n",
       "        vertical-align: middle;\n",
       "    }\n",
       "\n",
       "    .dataframe tbody tr th {\n",
       "        vertical-align: top;\n",
       "    }\n",
       "\n",
       "    .dataframe thead th {\n",
       "        text-align: right;\n",
       "    }\n",
       "</style>\n",
       "<table border=\"1\" class=\"dataframe\">\n",
       "  <thead>\n",
       "    <tr style=\"text-align: right;\">\n",
       "      <th></th>\n",
       "      <th>as_reg_app</th>\n",
       "      <th>as_reg_info</th>\n",
       "      <th>as_fac_wait_area</th>\n",
       "      <th>as_fac_room</th>\n",
       "      <th>as_fac_clean</th>\n",
       "      <th>as_per_wait_surgery</th>\n",
       "      <th>as_ph_care</th>\n",
       "      <th>as_ph_explain</th>\n",
       "      <th>as_nurse_care</th>\n",
       "      <th>as_nurse_skill</th>\n",
       "      <th>...</th>\n",
       "      <th>as_per_pain</th>\n",
       "      <th>as_per_con</th>\n",
       "      <th>as_per_need</th>\n",
       "      <th>as_per_treat</th>\n",
       "      <th>as_over_care</th>\n",
       "      <th>as_over_staff</th>\n",
       "      <th>as_over_recommend</th>\n",
       "      <th>as_nurse_response</th>\n",
       "      <th>as_ph_response</th>\n",
       "      <th>as_ph_explain.1</th>\n",
       "    </tr>\n",
       "  </thead>\n",
       "  <tbody>\n",
       "    <tr>\n",
       "      <th>0</th>\n",
       "      <td>5.0</td>\n",
       "      <td>5.0</td>\n",
       "      <td>NaN</td>\n",
       "      <td>NaN</td>\n",
       "      <td>NaN</td>\n",
       "      <td>NaN</td>\n",
       "      <td>NaN</td>\n",
       "      <td>NaN</td>\n",
       "      <td>NaN</td>\n",
       "      <td>NaN</td>\n",
       "      <td>...</td>\n",
       "      <td>NaN</td>\n",
       "      <td>NaN</td>\n",
       "      <td>NaN</td>\n",
       "      <td>NaN</td>\n",
       "      <td>NaN</td>\n",
       "      <td>NaN</td>\n",
       "      <td>NaN</td>\n",
       "      <td>NaN</td>\n",
       "      <td>NaN</td>\n",
       "      <td>NaN</td>\n",
       "    </tr>\n",
       "    <tr>\n",
       "      <th>1</th>\n",
       "      <td>5.0</td>\n",
       "      <td>5.0</td>\n",
       "      <td>5.0</td>\n",
       "      <td>5.0</td>\n",
       "      <td>5.0</td>\n",
       "      <td>5.0</td>\n",
       "      <td>5.0</td>\n",
       "      <td>5.0</td>\n",
       "      <td>5.0</td>\n",
       "      <td>5.0</td>\n",
       "      <td>...</td>\n",
       "      <td>5.0</td>\n",
       "      <td>5.0</td>\n",
       "      <td>5.0</td>\n",
       "      <td>5.0</td>\n",
       "      <td>5.0</td>\n",
       "      <td>5.0</td>\n",
       "      <td>5.0</td>\n",
       "      <td>NaN</td>\n",
       "      <td>NaN</td>\n",
       "      <td>NaN</td>\n",
       "    </tr>\n",
       "    <tr>\n",
       "      <th>2</th>\n",
       "      <td>4.0</td>\n",
       "      <td>5.0</td>\n",
       "      <td>5.0</td>\n",
       "      <td>5.0</td>\n",
       "      <td>5.0</td>\n",
       "      <td>4.0</td>\n",
       "      <td>5.0</td>\n",
       "      <td>5.0</td>\n",
       "      <td>4.0</td>\n",
       "      <td>5.0</td>\n",
       "      <td>...</td>\n",
       "      <td>5.0</td>\n",
       "      <td>4.0</td>\n",
       "      <td>5.0</td>\n",
       "      <td>5.0</td>\n",
       "      <td>5.0</td>\n",
       "      <td>5.0</td>\n",
       "      <td>5.0</td>\n",
       "      <td>NaN</td>\n",
       "      <td>NaN</td>\n",
       "      <td>NaN</td>\n",
       "    </tr>\n",
       "    <tr>\n",
       "      <th>3</th>\n",
       "      <td>5.0</td>\n",
       "      <td>5.0</td>\n",
       "      <td>5.0</td>\n",
       "      <td>5.0</td>\n",
       "      <td>5.0</td>\n",
       "      <td>5.0</td>\n",
       "      <td>5.0</td>\n",
       "      <td>5.0</td>\n",
       "      <td>5.0</td>\n",
       "      <td>5.0</td>\n",
       "      <td>...</td>\n",
       "      <td>5.0</td>\n",
       "      <td>5.0</td>\n",
       "      <td>5.0</td>\n",
       "      <td>5.0</td>\n",
       "      <td>5.0</td>\n",
       "      <td>5.0</td>\n",
       "      <td>5.0</td>\n",
       "      <td>NaN</td>\n",
       "      <td>NaN</td>\n",
       "      <td>NaN</td>\n",
       "    </tr>\n",
       "    <tr>\n",
       "      <th>4</th>\n",
       "      <td>5.0</td>\n",
       "      <td>5.0</td>\n",
       "      <td>5.0</td>\n",
       "      <td>5.0</td>\n",
       "      <td>5.0</td>\n",
       "      <td>5.0</td>\n",
       "      <td>5.0</td>\n",
       "      <td>5.0</td>\n",
       "      <td>5.0</td>\n",
       "      <td>5.0</td>\n",
       "      <td>...</td>\n",
       "      <td>5.0</td>\n",
       "      <td>5.0</td>\n",
       "      <td>5.0</td>\n",
       "      <td>5.0</td>\n",
       "      <td>5.0</td>\n",
       "      <td>5.0</td>\n",
       "      <td>5.0</td>\n",
       "      <td>NaN</td>\n",
       "      <td>NaN</td>\n",
       "      <td>NaN</td>\n",
       "    </tr>\n",
       "    <tr>\n",
       "      <th>...</th>\n",
       "      <td>...</td>\n",
       "      <td>...</td>\n",
       "      <td>...</td>\n",
       "      <td>...</td>\n",
       "      <td>...</td>\n",
       "      <td>...</td>\n",
       "      <td>...</td>\n",
       "      <td>...</td>\n",
       "      <td>...</td>\n",
       "      <td>...</td>\n",
       "      <td>...</td>\n",
       "      <td>...</td>\n",
       "      <td>...</td>\n",
       "      <td>...</td>\n",
       "      <td>...</td>\n",
       "      <td>...</td>\n",
       "      <td>...</td>\n",
       "      <td>...</td>\n",
       "      <td>...</td>\n",
       "      <td>...</td>\n",
       "      <td>...</td>\n",
       "    </tr>\n",
       "    <tr>\n",
       "      <th>1284</th>\n",
       "      <td>5.0</td>\n",
       "      <td>5.0</td>\n",
       "      <td>5.0</td>\n",
       "      <td>5.0</td>\n",
       "      <td>5.0</td>\n",
       "      <td>5.0</td>\n",
       "      <td>5.0</td>\n",
       "      <td>5.0</td>\n",
       "      <td>5.0</td>\n",
       "      <td>5.0</td>\n",
       "      <td>...</td>\n",
       "      <td>5.0</td>\n",
       "      <td>5.0</td>\n",
       "      <td>5.0</td>\n",
       "      <td>5.0</td>\n",
       "      <td>5.0</td>\n",
       "      <td>5.0</td>\n",
       "      <td>5.0</td>\n",
       "      <td>NaN</td>\n",
       "      <td>NaN</td>\n",
       "      <td>NaN</td>\n",
       "    </tr>\n",
       "    <tr>\n",
       "      <th>1285</th>\n",
       "      <td>5.0</td>\n",
       "      <td>5.0</td>\n",
       "      <td>5.0</td>\n",
       "      <td>5.0</td>\n",
       "      <td>5.0</td>\n",
       "      <td>1.0</td>\n",
       "      <td>5.0</td>\n",
       "      <td>5.0</td>\n",
       "      <td>5.0</td>\n",
       "      <td>5.0</td>\n",
       "      <td>...</td>\n",
       "      <td>5.0</td>\n",
       "      <td>5.0</td>\n",
       "      <td>4.0</td>\n",
       "      <td>5.0</td>\n",
       "      <td>5.0</td>\n",
       "      <td>5.0</td>\n",
       "      <td>5.0</td>\n",
       "      <td>NaN</td>\n",
       "      <td>NaN</td>\n",
       "      <td>NaN</td>\n",
       "    </tr>\n",
       "    <tr>\n",
       "      <th>1286</th>\n",
       "      <td>5.0</td>\n",
       "      <td>5.0</td>\n",
       "      <td>5.0</td>\n",
       "      <td>5.0</td>\n",
       "      <td>5.0</td>\n",
       "      <td>5.0</td>\n",
       "      <td>5.0</td>\n",
       "      <td>5.0</td>\n",
       "      <td>5.0</td>\n",
       "      <td>5.0</td>\n",
       "      <td>...</td>\n",
       "      <td>5.0</td>\n",
       "      <td>5.0</td>\n",
       "      <td>5.0</td>\n",
       "      <td>5.0</td>\n",
       "      <td>5.0</td>\n",
       "      <td>5.0</td>\n",
       "      <td>5.0</td>\n",
       "      <td>NaN</td>\n",
       "      <td>NaN</td>\n",
       "      <td>NaN</td>\n",
       "    </tr>\n",
       "    <tr>\n",
       "      <th>1287</th>\n",
       "      <td>5.0</td>\n",
       "      <td>5.0</td>\n",
       "      <td>5.0</td>\n",
       "      <td>5.0</td>\n",
       "      <td>5.0</td>\n",
       "      <td>5.0</td>\n",
       "      <td>5.0</td>\n",
       "      <td>5.0</td>\n",
       "      <td>5.0</td>\n",
       "      <td>5.0</td>\n",
       "      <td>...</td>\n",
       "      <td>4.0</td>\n",
       "      <td>5.0</td>\n",
       "      <td>5.0</td>\n",
       "      <td>5.0</td>\n",
       "      <td>5.0</td>\n",
       "      <td>5.0</td>\n",
       "      <td>5.0</td>\n",
       "      <td>NaN</td>\n",
       "      <td>NaN</td>\n",
       "      <td>NaN</td>\n",
       "    </tr>\n",
       "    <tr>\n",
       "      <th>1288</th>\n",
       "      <td>5.0</td>\n",
       "      <td>4.0</td>\n",
       "      <td>NaN</td>\n",
       "      <td>NaN</td>\n",
       "      <td>5.0</td>\n",
       "      <td>NaN</td>\n",
       "      <td>5.0</td>\n",
       "      <td>5.0</td>\n",
       "      <td>4.0</td>\n",
       "      <td>NaN</td>\n",
       "      <td>...</td>\n",
       "      <td>5.0</td>\n",
       "      <td>4.0</td>\n",
       "      <td>4.0</td>\n",
       "      <td>5.0</td>\n",
       "      <td>5.0</td>\n",
       "      <td>5.0</td>\n",
       "      <td>5.0</td>\n",
       "      <td>3.0</td>\n",
       "      <td>5.0</td>\n",
       "      <td>5.0</td>\n",
       "    </tr>\n",
       "  </tbody>\n",
       "</table>\n",
       "<p>1289 rows × 34 columns</p>\n",
       "</div>"
      ],
      "text/plain": [
       "      as_reg_app  as_reg_info  as_fac_wait_area  as_fac_room  as_fac_clean  \\\n",
       "0            5.0          5.0               NaN          NaN           NaN   \n",
       "1            5.0          5.0               5.0          5.0           5.0   \n",
       "2            4.0          5.0               5.0          5.0           5.0   \n",
       "3            5.0          5.0               5.0          5.0           5.0   \n",
       "4            5.0          5.0               5.0          5.0           5.0   \n",
       "...          ...          ...               ...          ...           ...   \n",
       "1284         5.0          5.0               5.0          5.0           5.0   \n",
       "1285         5.0          5.0               5.0          5.0           5.0   \n",
       "1286         5.0          5.0               5.0          5.0           5.0   \n",
       "1287         5.0          5.0               5.0          5.0           5.0   \n",
       "1288         5.0          4.0               NaN          NaN           5.0   \n",
       "\n",
       "      as_per_wait_surgery  as_ph_care  as_ph_explain  as_nurse_care  \\\n",
       "0                     NaN         NaN            NaN            NaN   \n",
       "1                     5.0         5.0            5.0            5.0   \n",
       "2                     4.0         5.0            5.0            4.0   \n",
       "3                     5.0         5.0            5.0            5.0   \n",
       "4                     5.0         5.0            5.0            5.0   \n",
       "...                   ...         ...            ...            ...   \n",
       "1284                  5.0         5.0            5.0            5.0   \n",
       "1285                  1.0         5.0            5.0            5.0   \n",
       "1286                  5.0         5.0            5.0            5.0   \n",
       "1287                  5.0         5.0            5.0            5.0   \n",
       "1288                  NaN         5.0            5.0            4.0   \n",
       "\n",
       "      as_nurse_skill  ...  as_per_pain  as_per_con  as_per_need  as_per_treat  \\\n",
       "0                NaN  ...          NaN         NaN          NaN           NaN   \n",
       "1                5.0  ...          5.0         5.0          5.0           5.0   \n",
       "2                5.0  ...          5.0         4.0          5.0           5.0   \n",
       "3                5.0  ...          5.0         5.0          5.0           5.0   \n",
       "4                5.0  ...          5.0         5.0          5.0           5.0   \n",
       "...              ...  ...          ...         ...          ...           ...   \n",
       "1284             5.0  ...          5.0         5.0          5.0           5.0   \n",
       "1285             5.0  ...          5.0         5.0          4.0           5.0   \n",
       "1286             5.0  ...          5.0         5.0          5.0           5.0   \n",
       "1287             5.0  ...          4.0         5.0          5.0           5.0   \n",
       "1288             NaN  ...          5.0         4.0          4.0           5.0   \n",
       "\n",
       "      as_over_care  as_over_staff  as_over_recommend  as_nurse_response  \\\n",
       "0              NaN            NaN                NaN                NaN   \n",
       "1              5.0            5.0                5.0                NaN   \n",
       "2              5.0            5.0                5.0                NaN   \n",
       "3              5.0            5.0                5.0                NaN   \n",
       "4              5.0            5.0                5.0                NaN   \n",
       "...            ...            ...                ...                ...   \n",
       "1284           5.0            5.0                5.0                NaN   \n",
       "1285           5.0            5.0                5.0                NaN   \n",
       "1286           5.0            5.0                5.0                NaN   \n",
       "1287           5.0            5.0                5.0                NaN   \n",
       "1288           5.0            5.0                5.0                3.0   \n",
       "\n",
       "      as_ph_response  as_ph_explain.1  \n",
       "0                NaN              NaN  \n",
       "1                NaN              NaN  \n",
       "2                NaN              NaN  \n",
       "3                NaN              NaN  \n",
       "4                NaN              NaN  \n",
       "...              ...              ...  \n",
       "1284             NaN              NaN  \n",
       "1285             NaN              NaN  \n",
       "1286             NaN              NaN  \n",
       "1287             NaN              NaN  \n",
       "1288             5.0              5.0  \n",
       "\n",
       "[1289 rows x 34 columns]"
      ]
     },
     "execution_count": 82,
     "metadata": {},
     "output_type": "execute_result"
    }
   ],
   "source": [
    "df[['as_reg_app', 'as_reg_info',\n",
    "   'as_fac_wait_area', 'as_fac_room', 'as_fac_clean', \n",
    "   'as_per_wait_surgery', 'as_ph_care', 'as_ph_explain', 'as_nurse_care',\n",
    "   'as_nurse_skill', 'as_nurse_info', 'as_nurse_chec', 'as_staff_hands',\n",
    "    'as_anes_exp', 'as_anes_care', 'as_anes_overall',\n",
    "   'as_nurse_after', 'as_ph_after', 'as_nurse_info_family',\n",
    "   'as_nurse_info_home', 'as_nurse_skill.1', 'as_ph_skill', \n",
    "   'as_per_info_delay', 'as_per_priv', 'as_per_pain', 'as_per_con',\n",
    "   'as_per_need', 'as_per_treat', 'as_over_care',\n",
    "   'as_over_staff', 'as_over_recommend', 'as_nurse_response',\n",
    "   'as_ph_response', 'as_ph_explain.1']]"
   ]
  },
  {
   "cell_type": "code",
   "execution_count": 85,
   "id": "d739ff51",
   "metadata": {},
   "outputs": [],
   "source": [
    "for i in range(len(df)):\n",
    "    df.loc[i,'as_target'] = df.loc[i,['as_reg_app', 'as_reg_info',\n",
    "       'as_fac_wait_area', 'as_fac_room', 'as_fac_clean', \n",
    "       'as_per_wait_surgery', 'as_ph_care', 'as_ph_explain', 'as_nurse_care',\n",
    "       'as_nurse_skill', 'as_nurse_info', 'as_nurse_chec', 'as_staff_hands',\n",
    "        'as_anes_exp', 'as_anes_care', 'as_anes_overall',\n",
    "       'as_nurse_after', 'as_ph_after', 'as_nurse_info_family',\n",
    "       'as_nurse_info_home', 'as_nurse_skill.1', 'as_ph_skill', \n",
    "       'as_per_info_delay', 'as_per_priv', 'as_per_pain', 'as_per_con',\n",
    "       'as_per_need', 'as_per_treat', 'as_over_care',\n",
    "       'as_over_staff', 'as_over_recommend', 'as_nurse_response',\n",
    "       'as_ph_response', 'as_ph_explain.1']].mean()"
   ]
  },
  {
   "cell_type": "code",
   "execution_count": null,
   "id": "88337231",
   "metadata": {},
   "outputs": [],
   "source": []
  },
  {
   "cell_type": "code",
   "execution_count": 86,
   "id": "2cd86e47",
   "metadata": {},
   "outputs": [],
   "source": [
    "df_target_3 = df[df['as_target'] < 4]"
   ]
  },
  {
   "cell_type": "code",
   "execution_count": 87,
   "id": "0b3c00f5",
   "metadata": {},
   "outputs": [
    {
     "data": {
      "text/plain": [
       "(171, 92)"
      ]
     },
     "execution_count": 87,
     "metadata": {},
     "output_type": "execute_result"
    }
   ],
   "source": [
    "df_target_3.shape"
   ]
  },
  {
   "cell_type": "code",
   "execution_count": 88,
   "id": "25f1b635",
   "metadata": {},
   "outputs": [
    {
     "data": {
      "text/plain": [
       "[]"
      ]
     },
     "execution_count": 88,
     "metadata": {},
     "output_type": "execute_result"
    },
    {
     "data": {
      "image/png": "[encoded data removed]",
      "text/plain": [
       "<Figure size 432x288 with 1 Axes>"
      ]
     },
     "metadata": {
      "needs_background": "light"
     },
     "output_type": "display_data"
    }
   ],
   "source": [
    "sns.countplot(x='age_bins', data=df_target_3)\n",
    "plt.xticks(rotation=60)\n",
    "plt.plot()"
   ]
  },
  {
   "cell_type": "markdown",
   "id": "88a97ae2",
   "metadata": {},
   "source": [
    "#### This shows that most of the Unsatisfied Patients are from 30-40 age and 50-60 age."
   ]
  },
  {
   "cell_type": "code",
   "execution_count": 89,
   "id": "1f4deedb",
   "metadata": {},
   "outputs": [
    {
     "data": {
      "text/plain": [
       "[]"
      ]
     },
     "execution_count": 89,
     "metadata": {},
     "output_type": "execute_result"
    },
    {
     "data": {
      "image/png": "[encoded data removed]",
      "text/plain": [
       "<Figure size 432x288 with 1 Axes>"
      ]
     },
     "metadata": {
      "needs_background": "light"
     },
     "output_type": "display_data"
    }
   ],
   "source": [
    "sns.countplot(x='age_bins',hue='gender', data=df_target_3)\n",
    "plt.xticks(rotation=60)\n",
    "plt.plot()"
   ]
  },
  {
   "cell_type": "markdown",
   "id": "ed17e465",
   "metadata": {},
   "source": [
    "#### This shows that mostly females aged from 30-40 are unsatisfied and mostly males aged from 50-60 are unsatisfied."
   ]
  },
  {
   "cell_type": "code",
   "execution_count": null,
   "id": "d1517dd4",
   "metadata": {},
   "outputs": [],
   "source": []
  },
  {
   "cell_type": "code",
   "execution_count": 90,
   "id": "ea3c6819",
   "metadata": {},
   "outputs": [
    {
     "data": {
      "text/plain": [
       "[]"
      ]
     },
     "execution_count": 90,
     "metadata": {},
     "output_type": "execute_result"
    },
    {
     "data": {
      "image/png": "[encoded data removed]",
      "text/plain": [
       "<Figure size 432x288 with 1 Axes>"
      ]
     },
     "metadata": {
      "needs_background": "light"
     },
     "output_type": "display_data"
    }
   ],
   "source": [
    "sns.countplot(x='year', hue='gender',data=df_target_3)\n",
    "plt.xticks(rotation=60)\n",
    "plt.plot()"
   ]
  },
  {
   "cell_type": "markdown",
   "id": "daf2b6ab",
   "metadata": {},
   "source": [
    "#### This shows that most of the unsatisfied patients are from 2019. and mostly females from 2018 and mostly males are from 2019."
   ]
  },
  {
   "cell_type": "code",
   "execution_count": null,
   "id": "50097a01",
   "metadata": {},
   "outputs": [],
   "source": []
  },
  {
   "cell_type": "code",
   "execution_count": 91,
   "id": "5bd3e863",
   "metadata": {},
   "outputs": [
    {
     "data": {
      "text/plain": [
       "[]"
      ]
     },
     "execution_count": 91,
     "metadata": {},
     "output_type": "execute_result"
    },
    {
     "data": {
      "image/png": "[encoded data removed]",
      "text/plain": [
       "<Figure size 432x288 with 1 Axes>"
      ]
     },
     "metadata": {
      "needs_background": "light"
     },
     "output_type": "display_data"
    }
   ],
   "source": [
    "sns.countplot(x='APPT_TYPE', data=df_target_3)\n",
    "plt.xticks(rotation=60)\n",
    "plt.plot()"
   ]
  },
  {
   "cell_type": "markdown",
   "id": "d28be45e",
   "metadata": {},
   "source": [
    "#### This shows that Most of the Patients are Unsatisfied from the Hemodialysis Acute Follow-up Appointment Type¶"
   ]
  },
  {
   "cell_type": "code",
   "execution_count": null,
   "id": "67c39adc",
   "metadata": {},
   "outputs": [],
   "source": []
  },
  {
   "cell_type": "code",
   "execution_count": 92,
   "id": "ffc4e52c",
   "metadata": {},
   "outputs": [
    {
     "data": {
      "text/plain": [
       "[]"
      ]
     },
     "execution_count": 92,
     "metadata": {},
     "output_type": "execute_result"
    },
    {
     "data": {
      "image/png": "[encoded data removed]",
      "text/plain": [
       "<Figure size 432x288 with 1 Axes>"
      ]
     },
     "metadata": {
      "needs_background": "light"
     },
     "output_type": "display_data"
    }
   ],
   "source": [
    "sns.countplot(x='MARITAL_STATUS', hue='gender', data=df_target_3)\n",
    "plt.xticks(rotation=60)\n",
    "plt.plot()"
   ]
  },
  {
   "cell_type": "markdown",
   "id": "28e22399",
   "metadata": {},
   "source": [
    "#### This shows that mostly Married Males and Females and Singles are Unsatisfied."
   ]
  },
  {
   "cell_type": "code",
   "execution_count": null,
   "id": "66784e1d",
   "metadata": {},
   "outputs": [],
   "source": []
  }
 ],
 "metadata": {
  "kernelspec": {
   "display_name": "Python 3 (ipykernel)",
   "language": "python",
   "name": "python3"
  },
  "language_info": {
   "codemirror_mode": {
    "name": "ipython",
    "version": 3
   },
   "file_extension": ".py",
   "mimetype": "text/x-python",
   "name": "python",
   "nbconvert_exporter": "python",
   "pygments_lexer": "ipython3",
   "version": "3.9.7"
  }
 },
 "nbformat": 4,
 "nbformat_minor": 5
}
